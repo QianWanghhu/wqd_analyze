{
 "cells": [
  {
   "cell_type": "markdown",
   "id": "attended-resistance",
   "metadata": {},
   "source": [
    "\"\"\"\n",
    "This script is used to caclulate the Event Mean Concentration (EMC).\n",
    "The inputs are .csv files containing concentration and flow after linear interpolation.\n",
    "\"\"\""
   ]
  },
  {
   "cell_type": "code",
   "execution_count": 1,
   "id": "governmental-network",
   "metadata": {},
   "outputs": [],
   "source": [
    "import pandas as pd\n",
    "import numpy as np\n",
    "from utils.concentration import rainfall_events, emc_cal, conc_interpolate, event_emc\n",
    "\n",
    "# read the discrete storm events\n",
    "# Read daily loads and flow\n",
    "# Read hourly loads and flow\n",
    "from common_settings import obspath, outpath, events_name, \\\n",
    "    obs_events, day_load_flow, hour_load_flow, conct_name, modpath"
   ]
  },
  {
   "cell_type": "markdown",
   "id": "recreational-trigger",
   "metadata": {},
   "source": [
    "## Produce the event mean concentration of obs and mod"
   ]
  },
  {
   "cell_type": "code",
   "execution_count": 2,
   "id": "desperate-albania",
   "metadata": {},
   "outputs": [],
   "source": [
    "# Calculate EMC for low-frequency data\n",
    "cols = [col for col in day_load_flow.columns if ('Load' in col) or ('Flow(ML)' in col)]\n",
    "index_range1 = [1, 60]\n",
    "index_range2 = [60, obs_events.shape[0]+1]"
   ]
  },
  {
   "cell_type": "code",
   "execution_count": null,
   "id": "important-exhibition",
   "metadata": {},
   "outputs": [],
   "source": [
    "obs_events = event_emc(obs_events, day_load_flow, index_range1, cols[0], cols[1], \n",
    "    time_scale='d', multiplier=1e3)"
   ]
  },
  {
   "cell_type": "code",
   "execution_count": null,
   "id": "talented-partner",
   "metadata": {},
   "outputs": [],
   "source": [
    "# Calculate EMC for high-frequency data\n",
    "cols = [col for col in hour_load_flow.columns if ('Load' in col) or ('ML' in col)]\n",
    "index_range2 = [60, obs_events.shape[0]+1]\n",
    "loads_col = cols[1]; flow_col = cols[0]\n",
    "obs_events = event_emc(obs_events, hour_load_flow, index_range2, loads_col, flow_col, \n",
    "    time_scale='h', multiplier=1)\n",
    "obs_events.to_csv(outpath + events_name, index='ID')"
   ]
  },
  {
   "cell_type": "code",
   "execution_count": null,
   "id": "danish-affect",
   "metadata": {},
   "outputs": [],
   "source": [
    "# read the discrete storm events\n",
    "modpath = '../data/mod/'\n",
    "filename = 'storm_event.csv'\n",
    "events = rainfall_events(f'{modpath}{filename}')\n",
    "\n",
    "# Calculate EMC for modeling data\n",
    "mod_fl_fn = 'DIN_flow.csv'\n",
    "load_flow = pd.read_csv(modpath + mod_fl_fn, index_col='Date')\n",
    "load_flow.index = pd.to_datetime(load_flow.index)\n",
    "cols = [col for col in load_flow.columns if ('Load' in col) or ('ML' in col)]\n",
    "index_range = [1, events.shape[0]]\n",
    "loads_col = cols[0]; flow_col = cols[1]\n",
    "\n",
    "events = event_emc(events, load_flow, index_range, loads_col, flow_col, \n",
    "    time_scale='d', multiplier=1)\n",
    "events.dropna(axis=0, inplace=True)\n",
    "# events.to_csv(f'{outpath}DIN_{filename}', index='ID')"
   ]
  },
  {
   "cell_type": "markdown",
   "id": "usual-habitat",
   "metadata": {},
   "source": [
    "## Produce the Normalized cumulative ratio of loads and flow "
   ]
  },
  {
   "cell_type": "code",
   "execution_count": 8,
   "id": "opening-fitness",
   "metadata": {},
   "outputs": [],
   "source": [
    "from utils.concentration import cumulative_lq, excel_save\n",
    "def update_cumul_df(loads, flow):\n",
    "    cumulative_ratio = cumulative_lq(loads, flow)\n",
    "    df_temp.loc[:, 'cumul_flow_ratio'] = cumulative_ratio['flow_ratio']\n",
    "    df_temp.loc[:, 'cumul_load_ratio'] = cumulative_ratio['loads_ratio']\n",
    "    return df_temp"
   ]
  },
  {
   "cell_type": "markdown",
   "id": "cubic-article",
   "metadata": {},
   "source": [
    "### calculate the daily data for double mass plot (Q-L)"
   ]
  },
  {
   "cell_type": "code",
   "execution_count": 12,
   "id": "eight-blank",
   "metadata": {},
   "outputs": [],
   "source": [
    "# time_ranges = [[f'{year}/7/1', f'{year+1}/6/30'] for year in range(2009, 2020)]\n",
    "time_ranges = obs_events.loc[:, ['start', 'end']].values\n",
    "double_mass_ratio = {}"
   ]
  },
  {
   "cell_type": "code",
   "execution_count": 13,
   "id": "basic-ratio",
   "metadata": {},
   "outputs": [],
   "source": [
    "# for ii in range(0, len(time_ranges)-2):\n",
    "for ii in range(index_range1[0]-1, index_range1[1]-1):\n",
    "    start, end = time_ranges[ii]\n",
    "    df_temp = day_load_flow.loc[start:end, :]\n",
    "    loads = df_temp.values[:, 0]\n",
    "    flow = df_temp.values[:, -1]\n",
    "    df_temp = update_cumul_df(loads, flow)\n",
    "    double_mass_ratio[f'obs_storm_{ii}'] = df_temp"
   ]
  },
  {
   "cell_type": "code",
   "execution_count": 14,
   "id": "fifty-dressing",
   "metadata": {},
   "outputs": [],
   "source": [
    "# save outputs into one excel\n",
    "fn = outpath +'obs_storm_cumulative_ratio_day.xlsx'\n",
    "excel_save(double_mass_ratio, fn, True)"
   ]
  },
  {
   "cell_type": "markdown",
   "id": "downtown-prisoner",
   "metadata": {},
   "source": [
    "### calculate the hourly data for double mass plot (Q-L)"
   ]
  },
  {
   "cell_type": "code",
   "execution_count": 15,
   "id": "dried-chamber",
   "metadata": {},
   "outputs": [],
   "source": [
    "double_mass_ratio = {}\n",
    "for ii in range(index_range2[0]-1, index_range2[1]-1):\n",
    "# for ii in range(9, len(time_ranges)):\n",
    "    start, end = time_ranges[ii]\n",
    "    start = pd.to_datetime(start + ' 00:00:00')\n",
    "    end = pd.to_datetime(end + ' 23:00:00')\n",
    "    df_temp = hour_load_flow.loc[start:end, :]\n",
    "    loads = df_temp.values[:, -1]\n",
    "    flow = df_temp.values[:, 0]\n",
    "    df_temp = update_cumul_df(loads, flow)\n",
    "    double_mass_ratio[f'obs_storm_{ii}'] = df_temp"
   ]
  },
  {
   "cell_type": "code",
   "execution_count": 16,
   "id": "under-wiring",
   "metadata": {},
   "outputs": [],
   "source": [
    "# save outputs into one excel\n",
    "fn = outpath +'obs_storm_cumulative_ratio_hour.xlsx'\n",
    "excel_save(double_mass_ratio, fn)"
   ]
  },
  {
   "cell_type": "markdown",
   "id": "average-episode",
   "metadata": {},
   "source": [
    "### calculate the modeling data for double mass plot (Q-L)"
   ]
  },
  {
   "cell_type": "code",
   "execution_count": 28,
   "id": "simple-article",
   "metadata": {},
   "outputs": [],
   "source": [
    "modpath = '../data/mod/'\n",
    "filename = 'storm_event.csv'\n",
    "mod_events = rainfall_events(f'{modpath}{filename}')"
   ]
  },
  {
   "cell_type": "code",
   "execution_count": 36,
   "id": "disciplinary-synthetic",
   "metadata": {},
   "outputs": [],
   "source": [
    "# Calculate EMC for modeling data\n",
    "mod_fl_fn = 'DIN_flow.csv'\n",
    "mod_load_flow = pd.read_csv(modpath + mod_fl_fn, index_col='Date')\n",
    "mod_load_flow.index = pd.to_datetime(mod_load_flow.index)\n",
    "cols = [col for col in mod_load_flow.columns if ('Load' in col) or ('ML' in col)]\n",
    "index_range = [1, mod_events.shape[0]]\n",
    "loads_col = cols[0]; flow_col = cols[1]"
   ]
  },
  {
   "cell_type": "code",
   "execution_count": 38,
   "id": "accomplished-greenhouse",
   "metadata": {},
   "outputs": [],
   "source": [
    "double_mass_ratio = {}\n",
    "time_ranges = [[f'{year}-07-01', f'{year+1}-06-30'] for year in range(2009, 2014)]\n",
    "# time_ranges = mod_events.loc[:, ['start', 'end']].values\n",
    "# for ii in range(index_range[0], index_range[1]):\n",
    "for ii in range(len(time_ranges)):\n",
    "    start, end = time_ranges[ii]\n",
    "    df_temp = mod_load_flow.loc[start:end, :]\n",
    "    loads = df_temp.values[:, 0]\n",
    "    flow = df_temp.values[:, -1]\n",
    "    df_temp = update_cumul_df(loads, flow)\n",
    "    double_mass_ratio[f'mod_storm_{ii}'] = df_temp"
   ]
  },
  {
   "cell_type": "code",
   "execution_count": 39,
   "id": "quiet-summary",
   "metadata": {},
   "outputs": [],
   "source": [
    "# save results\n",
    "fn = outpath +'mod_year_cumulative_ratio_day.xlsx'\n",
    "excel_save(double_mass_ratio, fn)"
   ]
  },
  {
   "cell_type": "code",
   "execution_count": null,
   "id": "everyday-gathering",
   "metadata": {},
   "outputs": [],
   "source": []
  }
 ],
 "metadata": {
  "kernelspec": {
   "display_name": "python(oed)",
   "language": "python",
   "name": "oed"
  },
  "language_info": {
   "codemirror_mode": {
    "name": "ipython",
    "version": 3
   },
   "file_extension": ".py",
   "mimetype": "text/x-python",
   "name": "python",
   "nbconvert_exporter": "python",
   "pygments_lexer": "ipython3",
   "version": "3.8.3"
  }
 },
 "nbformat": 4,
 "nbformat_minor": 5
}
