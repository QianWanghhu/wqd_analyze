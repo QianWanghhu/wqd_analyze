{
 "cells": [
  {
   "cell_type": "code",
   "execution_count": 1,
   "metadata": {},
   "outputs": [],
   "source": [
    "import pandas as pd\n",
    "import numpy as np\n",
    "from utils.concentration import rainfall_events, emc_cal, conc_interpolate, event_emc\n",
    "import datetime\n",
    "\n",
    "# read the discrete storm events\n",
    "# Read daily loads and flow\n",
    "from common_settings import obspath, outpath, events_name, \\\n",
    "    obs_events, day_load_flow, hour_load_flow, conct_name, modpath, mod_load_flow"
   ]
  },
  {
   "cell_type": "code",
   "execution_count": 2,
   "metadata": {},
   "outputs": [],
   "source": [
    "from utils.concentration import cumulative_lq, excel_save\n",
    "from utils.signatures import update_cumul_df, load_flow_loc"
   ]
  },
  {
   "cell_type": "markdown",
   "metadata": {},
   "source": [
    "## Linear regression of C-Q"
   ]
  },
  {
   "cell_type": "code",
   "execution_count": 3,
   "metadata": {},
   "outputs": [],
   "source": [
    "# import necessary packages\n",
    "from sklearn.metrics import r2_score\n",
    "from utils.signatures import residual, nonlinear_fit\n",
    "from utils.plotting import regression_plot\n",
    "import lmfit"
   ]
  },
  {
   "cell_type": "code",
   "execution_count": 4,
   "metadata": {},
   "outputs": [
    {
     "data": {
      "text/plain": [
       "Index(['Loads (kg)', 'Concentration (mg/L)', 'Flow (ML)', 'Flow  (Cumecs)',\n",
       "       'Load(t)'],\n",
       "      dtype='object')"
      ]
     },
     "execution_count": 4,
     "metadata": {},
     "output_type": "execute_result"
    }
   ],
   "source": [
    "# define x and y\n",
    "time_range = [['/7/1', '/10/1'], ['/10/1', '/1/1'], ['/1/1', '/4/1'], ['/4/1', '/7/1']]\n",
    "cols = day_load_flow.columns\n",
    "# day_load_flow.loc[:, cols[0]] = day_load_flow.loc[:, cols[0]]*1000\n",
    "cols"
   ]
  },
  {
   "cell_type": "code",
   "execution_count": 21,
   "metadata": {},
   "outputs": [],
   "source": [
    "x_dict, y_dict = {}, {}\n",
    "k = 1\n",
    "for tt in time_range:\n",
    "    x, y = np.array([]), np.array([])\n",
    "    for year in range(2009, 2019):\n",
    "        start = pd.to_datetime(f'{year}{tt[0]}')\n",
    "        if tt[1] == '/1/1':\n",
    "            end = pd.to_datetime(f'{year+1}{tt[1]}') - datetime.timedelta(days=1)\n",
    "        else:\n",
    "            end = pd.to_datetime(f'{year}{tt[1]}') - datetime.timedelta(days=1)\n",
    "        df_temp = load_flow_loc([start, end], day_load_flow, timestep ='d')\n",
    "        x = np.append(x, df_temp.values[:, 2])\n",
    "        y = np.append(y, df_temp.values[:, 0])\n",
    "    x_dict[f'{k}_x'] = x\n",
    "    x_dict[f'{k}_y'] = y\n",
    "    k += 1"
   ]
  },
  {
   "cell_type": "code",
   "execution_count": 22,
   "metadata": {},
   "outputs": [
    {
     "name": "stderr",
     "output_type": "stream",
     "text": [
      "F:\\Anaconda\\envs\\oed\\lib\\site-packages\\lmfit\\printfuncs.py:180: RuntimeWarning: divide by zero encountered in double_scalars\n",
      "  spercent = '({:.2%})'.format(abs(par.stderr/par.value))\n"
     ]
    },
    {
     "name": "stdout",
     "output_type": "stream",
     "text": [
      "[[Variables]]\n",
      "    a:  0.31785112 +/- 0.05376697 (16.92%) (init = 0.3178511)\n",
      "    b:  1.04411256 +/- 0.04606186 (4.41%) (init = 1.044113)\n",
      "    c:  0.00000000 +/- 1.1682e-09 (inf%) (init = 0)\n",
      "[[Correlations]] (unreported correlations are < 0.100)\n",
      "    C(a, b) = -0.952\n",
      "    C(a, c) = -0.794\n",
      "    C(b, c) =  0.675\n"
     ]
    },
    {
     "name": "stderr",
     "output_type": "stream",
     "text": [
      "F:\\Anaconda\\envs\\oed\\lib\\site-packages\\lmfit\\confidence.py:319: UserWarning: Bound reached with prob(c=0) = 0.0 < max(sigmas)\n",
      "  warn(errmsg)\n"
     ]
    },
    {
     "name": "stdout",
     "output_type": "stream",
     "text": [
      "      95.45%    68.27%    _BEST_    68.27%    95.45%\n",
      " a:  -0.04761  -0.00435   0.31785  +0.01180  +0.02462\n",
      " b:  -0.00896  -0.00242   1.04411  +0.01097  +0.02300\n",
      " c:      -inf      -inf   0.00000  +0.01769  +0.06771\n"
     ]
    },
    {
     "name": "stderr",
     "output_type": "stream",
     "text": [
      "F:\\Anaconda\\envs\\oed\\lib\\site-packages\\lmfit\\printfuncs.py:180: RuntimeWarning: divide by zero encountered in double_scalars\n",
      "  spercent = '({:.2%})'.format(abs(par.stderr/par.value))\n"
     ]
    },
    {
     "name": "stdout",
     "output_type": "stream",
     "text": [
      "[[Variables]]\n",
      "    a:  0.24968621 +/- 0.03539623 (14.18%) (init = 0.2496862)\n",
      "    b:  1.06874892 +/- 0.03341643 (3.13%) (init = 1.068749)\n",
      "    c:  0.00000000 +/- 6.8172e-10 (inf%) (init = 0)\n",
      "[[Correlations]] (unreported correlations are < 0.100)\n",
      "    C(a, b) = -0.886\n",
      "    C(a, c) = -0.813\n",
      "    C(b, c) =  0.629\n"
     ]
    },
    {
     "name": "stderr",
     "output_type": "stream",
     "text": [
      "F:\\Anaconda\\envs\\oed\\lib\\site-packages\\lmfit\\confidence.py:319: UserWarning: Bound reached with prob(c=0) = 0.0 < max(sigmas)\n",
      "  warn(errmsg)\n"
     ]
    },
    {
     "name": "stdout",
     "output_type": "stream",
     "text": [
      "      95.45%    68.27%    _BEST_    68.27%    95.45%\n",
      " a:  -0.02163  -0.01103   0.24969  +0.01150  +0.02351\n",
      " b:  -0.02464  -0.01220   1.06875  +0.01202  +0.02386\n",
      " c:      -inf      -inf   0.00000  +0.00401  +0.01608\n"
     ]
    },
    {
     "name": "stderr",
     "output_type": "stream",
     "text": [
      "F:\\Anaconda\\envs\\oed\\lib\\site-packages\\lmfit\\printfuncs.py:180: RuntimeWarning: divide by zero encountered in double_scalars\n",
      "  spercent = '({:.2%})'.format(abs(par.stderr/par.value))\n"
     ]
    },
    {
     "name": "stdout",
     "output_type": "stream",
     "text": [
      "[[Variables]]\n",
      "    a:  0.88971081 +/- 0.07462014 (8.39%) (init = 0.8897108)\n",
      "    b:  0.78196957 +/- 0.01383442 (1.77%) (init = 0.7819696)\n",
      "    c:  0.00000000 +/- 1.4798e-09 (inf%) (init = 0)\n",
      "[[Correlations]] (unreported correlations are < 0.100)\n",
      "    C(a, b) = -0.943\n",
      "    C(a, c) = -0.557\n",
      "    C(b, c) =  0.481\n"
     ]
    },
    {
     "name": "stderr",
     "output_type": "stream",
     "text": [
      "F:\\Anaconda\\envs\\oed\\lib\\site-packages\\lmfit\\confidence.py:319: UserWarning: Bound reached with prob(c=0) = 0.0 < max(sigmas)\n",
      "  warn(errmsg)\n"
     ]
    },
    {
     "name": "stdout",
     "output_type": "stream",
     "text": [
      "      95.45%    68.27%    _BEST_    68.27%    95.45%\n",
      " a:  -0.04542  -0.02299   0.88971  +0.02714  +0.04794\n",
      " b:  -0.00917  -0.00459   0.78197  +0.00460  +0.00920\n",
      " c:      -inf      -inf   0.00000  +0.03787  +0.15094\n"
     ]
    },
    {
     "name": "stderr",
     "output_type": "stream",
     "text": [
      "F:\\Anaconda\\envs\\oed\\lib\\site-packages\\lmfit\\printfuncs.py:180: RuntimeWarning: divide by zero encountered in double_scalars\n",
      "  spercent = '({:.2%})'.format(abs(par.stderr/par.value))\n"
     ]
    },
    {
     "name": "stdout",
     "output_type": "stream",
     "text": [
      "[[Variables]]\n",
      "    a:  1.40701102 +/- 0.12209723 (8.68%) (init = 1.407011)\n",
      "    b:  0.78150124 +/- 0.02046426 (2.62%) (init = 0.7815012)\n",
      "    c:  0.00000000 +/- 1.7560e-09 (inf%) (init = 0)\n",
      "[[Correlations]] (unreported correlations are < 0.100)\n",
      "    C(a, b) = -0.960\n",
      "    C(a, c) = -0.455\n",
      "    C(b, c) =  0.396\n"
     ]
    },
    {
     "name": "stderr",
     "output_type": "stream",
     "text": [
      "F:\\Anaconda\\envs\\oed\\lib\\site-packages\\lmfit\\confidence.py:319: UserWarning: Bound reached with prob(c=0) = 0.0 < max(sigmas)\n",
      "  warn(errmsg)\n"
     ]
    },
    {
     "name": "stdout",
     "output_type": "stream",
     "text": [
      "      95.45%    68.27%    _BEST_    68.27%    95.45%\n",
      " a:  -0.05131  -0.03237   1.40701  +0.03296  +0.06672\n",
      " b:  -0.01521  -0.00375   0.78150  +0.00560  +0.01170\n",
      " c:      -inf      -inf   0.00000  +0.06085      +inf\n"
     ]
    },
    {
     "name": "stderr",
     "output_type": "stream",
     "text": [
      "F:\\Anaconda\\envs\\oed\\lib\\site-packages\\lmfit\\confidence.py:326: UserWarning: maxiter=200 reached and prob(c=0.20100000000000015) = 0.931995760023581 < max(sigmas).\n",
      "  warn(errmsg)\n"
     ]
    }
   ],
   "source": [
    "# variables are x and y\n",
    "index_labs=['R2', 'a', 'b', 'c', 'a_error', 'b_error', 'c_error']\n",
    "coeff_regress = pd.DataFrame(columns = np.arange(1, 5), index=index_labs)\n",
    "columns=['value', 'min', 'max', 'stderr', 'vary', 'expr', 'brute_step']\n",
    "for k in range(1, 5):\n",
    "    x = x_dict[f'{k}_x']\n",
    "    y = x_dict[f'{k}_y']\n",
    "    p = lmfit.Parameters()\n",
    "    p.add_many(('a', 0.1, True, 0, 10), ('b', 2, True, 0, 2), ('c', 0, True, 0, 10))\n",
    "    out1, out2, ci, trace = nonlinear_fit(p, residual, x, y, opti_method='differential_evolution')# lmfit, x=x_input, y=y_output,\n",
    "    \n",
    "    #  Extract standard error of coefficients\n",
    "    for name, values in sorted(out2.params.items()):\n",
    "        pvalues = {j: getattr(values, j) for j in columns}\n",
    "        # stderr is a special case: it is either numeric or None (i.e. str)\n",
    "        coeff_regress.loc[name + '_error':, k] = pvalues['stderr'] \n",
    "\n",
    "    # compare coefficient of determination\n",
    "    para_values = {}\n",
    "    for param in ['a', 'b', 'c']: \n",
    "        para_values[param] = np.round(trace['a'][param][0], 4)\n",
    "    y_mod = para_values['a'] * x ** para_values['b']+ para_values['c']\n",
    "    r2 = r2_score(np.log(y), np.log(y_mod))\n",
    "    abs_bias = np.abs(np.average(y_mod - y))\n",
    "    rel_bias = abs_bias / np.average(y)\n",
    "    coeff_regress.loc[index_labs[0:4], k] = [r2, para_values['a'], para_values['b'], para_values['c']]"
   ]
  },
  {
   "cell_type": "code",
   "execution_count": 23,
   "metadata": {},
   "outputs": [
    {
     "data": {
      "text/html": [
       "<div>\n",
       "<style scoped>\n",
       "    .dataframe tbody tr th:only-of-type {\n",
       "        vertical-align: middle;\n",
       "    }\n",
       "\n",
       "    .dataframe tbody tr th {\n",
       "        vertical-align: top;\n",
       "    }\n",
       "\n",
       "    .dataframe thead th {\n",
       "        text-align: right;\n",
       "    }\n",
       "</style>\n",
       "<table border=\"1\" class=\"dataframe\">\n",
       "  <thead>\n",
       "    <tr style=\"text-align: right;\">\n",
       "      <th></th>\n",
       "      <th>1</th>\n",
       "      <th>2</th>\n",
       "      <th>3</th>\n",
       "      <th>4</th>\n",
       "    </tr>\n",
       "  </thead>\n",
       "  <tbody>\n",
       "    <tr>\n",
       "      <th>R2</th>\n",
       "      <td>0.549629</td>\n",
       "      <td>0.717884</td>\n",
       "      <td>0.834902</td>\n",
       "      <td>0.687011</td>\n",
       "    </tr>\n",
       "    <tr>\n",
       "      <th>a</th>\n",
       "      <td>0.3179</td>\n",
       "      <td>0.2497</td>\n",
       "      <td>0.8897</td>\n",
       "      <td>1.407</td>\n",
       "    </tr>\n",
       "    <tr>\n",
       "      <th>b</th>\n",
       "      <td>1.0441</td>\n",
       "      <td>1.0687</td>\n",
       "      <td>0.782</td>\n",
       "      <td>0.7815</td>\n",
       "    </tr>\n",
       "    <tr>\n",
       "      <th>c</th>\n",
       "      <td>0</td>\n",
       "      <td>0</td>\n",
       "      <td>0</td>\n",
       "      <td>0</td>\n",
       "    </tr>\n",
       "    <tr>\n",
       "      <th>a_error</th>\n",
       "      <td>0.053767</td>\n",
       "      <td>0.0353962</td>\n",
       "      <td>0.0746201</td>\n",
       "      <td>0.122097</td>\n",
       "    </tr>\n",
       "    <tr>\n",
       "      <th>b_error</th>\n",
       "      <td>0.0460619</td>\n",
       "      <td>0.0334164</td>\n",
       "      <td>0.0138344</td>\n",
       "      <td>0.0204643</td>\n",
       "    </tr>\n",
       "    <tr>\n",
       "      <th>c_error</th>\n",
       "      <td>1.16819e-09</td>\n",
       "      <td>6.81721e-10</td>\n",
       "      <td>1.47984e-09</td>\n",
       "      <td>1.75601e-09</td>\n",
       "    </tr>\n",
       "  </tbody>\n",
       "</table>\n",
       "</div>"
      ],
      "text/plain": [
       "                   1            2            3            4\n",
       "R2          0.549629     0.717884     0.834902     0.687011\n",
       "a             0.3179       0.2497       0.8897        1.407\n",
       "b             1.0441       1.0687        0.782       0.7815\n",
       "c                  0            0            0            0\n",
       "a_error     0.053767    0.0353962    0.0746201     0.122097\n",
       "b_error    0.0460619    0.0334164    0.0138344    0.0204643\n",
       "c_error  1.16819e-09  6.81721e-10  1.47984e-09  1.75601e-09"
      ]
     },
     "execution_count": 23,
     "metadata": {},
     "output_type": "execute_result"
    }
   ],
   "source": [
    "coeff_regress"
   ]
  },
  {
   "cell_type": "code",
   "execution_count": 24,
   "metadata": {},
   "outputs": [],
   "source": [
    "coeff_regress.to_csv(outpath+'obs_cl_regress_error.csv')"
   ]
  },
  {
   "cell_type": "code",
   "execution_count": null,
   "metadata": {},
   "outputs": [],
   "source": []
  }
 ],
 "metadata": {
  "kernelspec": {
   "display_name": "wqd_py",
   "language": "python",
   "name": "wqd_py"
  },
  "language_info": {
   "codemirror_mode": {
    "name": "ipython",
    "version": 3
   },
   "file_extension": ".py",
   "mimetype": "text/x-python",
   "name": "python",
   "nbconvert_exporter": "python",
   "pygments_lexer": "ipython3",
   "version": "3.10.5"
  }
 },
 "nbformat": 4,
 "nbformat_minor": 4
}
