{
 "cells": [
  {
   "cell_type": "markdown",
   "id": "accepting-bleeding",
   "metadata": {},
   "source": [
    "\"\"\"\n",
    "This script is used to caclulate the Event Mean Concentration (EMC).\n",
    "The inputs are .csv files containing concentration and flow after linear interpolation.\n",
    "\"\"\""
   ]
  },
  {
   "cell_type": "code",
   "execution_count": 3,
   "id": "representative-belgium",
   "metadata": {},
   "outputs": [],
   "source": [
    "import pandas as pd\n",
    "import numpy as np\n",
    "from utils.concentration import rainfall_events, emc_cal, conc_interpolate, event_emc\n",
    "import datetime\n",
    "\n",
    "# read the discrete storm events\n",
    "# Read daily loads and flow\n",
    "# Read hourly loads and flow\n",
    "from common_settings import obspath, outpath, events_name, \\\n",
    "    obs_events, day_load_flow, hour_load_flow, conct_name, modpath, mod_load_flow"
   ]
  },
  {
   "cell_type": "code",
   "execution_count": 4,
   "id": "interpreted-pavilion",
   "metadata": {},
   "outputs": [],
   "source": [
    "from utils.concentration import cumulative_lq, excel_save\n",
    "from utils.signatures import update_cumul_df, load_flow_loc"
   ]
  },
  {
   "cell_type": "markdown",
   "id": "temporal-bathroom",
   "metadata": {},
   "source": [
    "## Produce the event mean concentration of obs and mod"
   ]
  },
  {
   "cell_type": "code",
   "execution_count": 3,
   "id": "promising-variation",
   "metadata": {},
   "outputs": [],
   "source": [
    "# Calculate EMC for low-frequency data\n",
    "cols = [col for col in day_load_flow.columns if ('Load' in col) or ('Flow(ML)' in col)]\n",
    "index_range1 = [1, 38]\n",
    "index_range2 = [38, obs_events.shape[0]+1]"
   ]
  },
  {
   "cell_type": "code",
   "execution_count": 4,
   "id": "broadband-interval",
   "metadata": {},
   "outputs": [],
   "source": [
    "obs_events = event_emc(obs_events, day_load_flow, index_range1, cols[0], cols[1], \n",
    "    time_scale='d', multiplier=1e3)"
   ]
  },
  {
   "cell_type": "code",
   "execution_count": 5,
   "id": "academic-commons",
   "metadata": {},
   "outputs": [],
   "source": [
    "# Calculate EMC for high-frequency data\n",
    "cols = [col for col in hour_load_flow.columns if ('Load' in col) or ('ML' in col)]\n",
    "index_range2 = [38, obs_events.shape[0]+1]\n",
    "loads_col = cols[1]; flow_col = cols[0]\n",
    "obs_events = event_emc(obs_events, hour_load_flow, index_range2, loads_col, flow_col, \n",
    "    time_scale='h', multiplier=1)"
   ]
  },
  {
   "cell_type": "code",
   "execution_count": 7,
   "id": "fatal-listing",
   "metadata": {},
   "outputs": [],
   "source": [
    "obs_events.to_csv(outpath + events_name, index='ID')"
   ]
  },
  {
   "cell_type": "code",
   "execution_count": 8,
   "id": "normal-familiar",
   "metadata": {},
   "outputs": [],
   "source": [
    "# read the discrete storm events\n",
    "filename = 'mod_storm_event_common.csv'\n",
    "events = rainfall_events(f'{modpath}{filename}')\n",
    "# Calculate EMC for modeling data\n",
    "cols = [col for col in mod_load_flow.columns if ('Load' in col) or ('ML' in col)]\n",
    "index_range = [1, events.shape[0]+1]\n",
    "loads_col = cols[0]; flow_col = cols[1]\n",
    "\n",
    "events = event_emc(events, mod_load_flow, index_range, loads_col, flow_col, \n",
    "    time_scale='d', multiplier=1)\n",
    "events.dropna(axis=0, inplace=True)\n",
    "events.to_csv(f'{outpath}DIN_{filename}', index='ID')"
   ]
  },
  {
   "cell_type": "markdown",
   "id": "sophisticated-minute",
   "metadata": {},
   "source": [
    "## Produce the Normalized cumulative ratio of loads and flow "
   ]
  },
  {
   "cell_type": "markdown",
   "id": "twenty-treat",
   "metadata": {},
   "source": [
    "### calculate the daily data for double mass plot (Q-L)"
   ]
  },
  {
   "cell_type": "code",
   "execution_count": 34,
   "id": "invisible-flour",
   "metadata": {},
   "outputs": [],
   "source": [
    "time_ranges = [[f'{year}/7/1', f'{year+1}/6/30'] for year in range(2009, 2020)]\n",
    "# time_ranges = obs_events.loc[:, ['start', 'end']].values\n",
    "double_mass_ratio = {}\n",
    "annual_total = pd.DataFrame(columns=day_load_flow.columns)"
   ]
  },
  {
   "cell_type": "code",
   "execution_count": 35,
   "id": "resistant-blame",
   "metadata": {},
   "outputs": [],
   "source": [
    "for ii in range(0, len(time_ranges)-2):\n",
    "# for ii in range(index_range1[0]-1, index_range1[1]-1):\n",
    "    df_temp = load_flow_loc(time_ranges[ii], day_load_flow, timestep='d')\n",
    "    df_temp = update_cumul_df(df_temp, df_temp.values[:, 0], df_temp.values[:, -2])\n",
    "    double_mass_ratio[f'obs_year_{ii}'] = df_temp\n",
    "    annual_total.loc[time_ranges[ii][0][0:4]] = df_temp.sum(axis=0)\n",
    "annual_total.loc['ave'] = annual_total.mean(axis=0)"
   ]
  },
  {
   "cell_type": "code",
   "execution_count": 37,
   "id": "editorial-royalty",
   "metadata": {},
   "outputs": [],
   "source": [
    "# save outputs into one excel\n",
    "annual_total.to_csv(outpath+'obs_annual_sum.csv')\n",
    "fn = outpath +'obs_year_cumulative_ratio_day.xlsx'\n",
    "excel_save(double_mass_ratio, fn, True)"
   ]
  },
  {
   "cell_type": "markdown",
   "id": "quality-harbor",
   "metadata": {},
   "source": [
    "### calculate the hourly data for double mass plot (Q-L)"
   ]
  },
  {
   "cell_type": "code",
   "execution_count": 15,
   "id": "superb-netherlands",
   "metadata": {},
   "outputs": [],
   "source": [
    "double_mass_ratio = {}\n",
    "for ii in range(index_range2[0]-1, index_range2[1]-1):\n",
    "# for ii in range(9, len(time_ranges)):\n",
    "    df_temp = load_flow_loc(time_ranges[ii], hour_load_flow, timestep='h')\n",
    "    df_temp = update_cumul_df(df_temp, df_temp.values[:, -1], df_temp.values[:, 0])\n",
    "    double_mass_ratio[f'obs_storm_{ii}'] = df_temp"
   ]
  },
  {
   "cell_type": "code",
   "execution_count": 16,
   "id": "alive-review",
   "metadata": {},
   "outputs": [],
   "source": [
    "# save outputs into one excel\n",
    "fn = outpath +'obs_storm_cumulative_ratio_hour.xlsx'\n",
    "excel_save(double_mass_ratio, fn)"
   ]
  },
  {
   "cell_type": "markdown",
   "id": "registered-fields",
   "metadata": {},
   "source": [
    "### calculate the modeling data for double mass plot (Q-L)"
   ]
  },
  {
   "cell_type": "code",
   "execution_count": 39,
   "id": "average-practitioner",
   "metadata": {},
   "outputs": [],
   "source": [
    "modpath = '../data/mod/'\n",
    "annual_total = pd.DataFrame(columns=mod_load_flow.columns)\n",
    "# filename = 'storm_event.csv'\n",
    "# mod_events = rainfall_events(f'{modpath}{filename}')"
   ]
  },
  {
   "cell_type": "code",
   "execution_count": 40,
   "id": "registered-hours",
   "metadata": {},
   "outputs": [],
   "source": [
    "# Calculate EMC for modeling data\n",
    "cols = [col for col in mod_load_flow.columns if ('Load' in col) or ('ML' in col)]\n",
    "# index_range = [1, mod_events.shape[0]]\n",
    "loads_col = cols[0]; flow_col = cols[1]"
   ]
  },
  {
   "cell_type": "code",
   "execution_count": 41,
   "id": "sixth-bradley",
   "metadata": {},
   "outputs": [],
   "source": [
    "double_mass_ratio = {}\n",
    "time_ranges = [[f'{year}-07-01', f'{year+1}-06-30'] for year in range(2009, 2018)]\n",
    "# time_ranges = mod_events.loc[:, ['start', 'end']].values\n",
    "# for ii in range(index_range[0], index_range[1]):\n",
    "for ii in range(len(time_ranges)):\n",
    "    df_temp = load_flow_loc(time_ranges[ii], mod_load_flow, timestep='d')\n",
    "    df_temp = update_cumul_df(df_temp, df_temp.values[:, 0], df_temp.values[:, -1])\n",
    "    double_mass_ratio[f'mod_storm_{ii}'] = df_temp\n",
    "    annual_total.loc[time_ranges[ii][0][0:4]] = df_temp.sum(axis=0)\n",
    "annual_total.loc['ave'] = annual_total.mean(axis=0)"
   ]
  },
  {
   "cell_type": "code",
   "execution_count": 42,
   "id": "bizarre-regression",
   "metadata": {},
   "outputs": [],
   "source": [
    "# save results\n",
    "annual_total.to_csv(outpath+'mod_annual_sum.csv')\n",
    "\n",
    "fn = outpath +'mod_year_cumulative_ratio_day.xlsx'\n",
    "excel_save(double_mass_ratio, fn)"
   ]
  },
  {
   "cell_type": "markdown",
   "id": "exciting-saskatchewan",
   "metadata": {},
   "source": [
    "## Calculate event load coefficients"
   ]
  },
  {
   "cell_type": "markdown",
   "id": "fatty-subscription",
   "metadata": {},
   "source": [
    "### Event loads for obs"
   ]
  },
  {
   "cell_type": "code",
   "execution_count": 23,
   "id": "fatty-removal",
   "metadata": {},
   "outputs": [],
   "source": [
    "obs_event_fn = 'obs_storm_event_common'\n",
    "obs_events = pd.read_csv(f'{outpath}{obs_event_fn}.csv', index_col = 'ID') \n",
    "time_ranges = [[f'{year}/7/1', f'{year+1}/6/30'] for year in [2009, 2010, 2011, 2012, 2013, 2014, 2018, 2019]]\n",
    "year_loads = {}"
   ]
  },
  {
   "cell_type": "code",
   "execution_count": 24,
   "id": "comprehensive-discharge",
   "metadata": {},
   "outputs": [],
   "source": [
    "# for each year, calculate the yearly loads \n",
    "# obs daily data\n",
    "for tt in time_ranges[0:-2]:\n",
    "    df = load_flow_loc(tt, day_load_flow, timestep='d')\n",
    "    year_loads[tt[0][0:4]] = np.round(df.values[:, 0].sum(), 2)  \n",
    "    \n",
    "# obs hourly data\n",
    "for tt in time_ranges[-2:]:\n",
    "    df = load_flow_loc(tt, hour_load_flow, timestep='h')\n",
    "    year_loads[tt[0][0:4]] = np.round(df.values[:, 0].sum(), 2)  "
   ]
  },
  {
   "cell_type": "code",
   "execution_count": 25,
   "id": "durable-electronics",
   "metadata": {},
   "outputs": [],
   "source": [
    "# The event load coefficients\n",
    "for ii in range(1, index_range1[1]):\n",
    "    df_event = load_flow_loc(obs_events.loc[ii, 'start':'end'].values, day_load_flow, timestep='d')\n",
    "    ymd= pd.to_datetime(obs_events.loc[ii, 'start'])\n",
    "    month = ymd.month; year = ymd.year\n",
    "    if month < 7:\n",
    "        obs_events.loc[ii, 'event_load_coefficients'] = df_event.values[:, 0].sum() / year_loads[str(year - 1)]\n",
    "    else:\n",
    "        obs_events.loc[ii, 'event_load_coefficients'] = df_event.values[:, 0].sum() / year_loads[str(year)]\n",
    "        \n",
    "for ii in range(index_range2[0], index_range2[1]):\n",
    "    df_event = load_flow_loc(obs_events.loc[ii, 'start':'end'].values, hour_load_flow, timestep='h')\n",
    "    ymd= pd.to_datetime(obs_events.loc[ii, 'start'])\n",
    "    month = ymd.month; year = ymd.year\n",
    "    if month < 7:\n",
    "        obs_events.loc[ii, 'event_load_coefficients'] = df_event.values[:, 0].sum() / year_loads[str(year-1)]\n",
    "    else:\n",
    "        obs_events.loc[ii, 'event_load_coefficients'] = df_event.values[:, 0].sum() / year_loads[str(year)]"
   ]
  },
  {
   "cell_type": "code",
   "execution_count": 27,
   "id": "enhanced-import",
   "metadata": {},
   "outputs": [],
   "source": [
    "obs_events.to_csv(f'{outpath}{obs_event_fn}.csv')"
   ]
  },
  {
   "cell_type": "markdown",
   "id": "unknown-portal",
   "metadata": {},
   "source": [
    "### Event loads for mod"
   ]
  },
  {
   "cell_type": "code",
   "execution_count": 28,
   "id": "fallen-wealth",
   "metadata": {},
   "outputs": [],
   "source": [
    "mod_event_fn = 'DIN_mod_storm_event_common'\n",
    "mod_events = pd.read_csv(f'{outpath}{mod_event_fn}.csv', index_col = 'ID') \n",
    "time_ranges = [[f'{year}/7/1', f'{year+1}/6/30'] for year in range(2009, 2014)]"
   ]
  },
  {
   "cell_type": "code",
   "execution_count": 29,
   "id": "smoking-colon",
   "metadata": {},
   "outputs": [],
   "source": [
    "# for each year, calculate the yearly loads \n",
    "mod_loads = {}\n",
    "# mod daily data\n",
    "for tt in time_ranges:\n",
    "    df = load_flow_loc(tt, mod_load_flow, timestep='d')\n",
    "    mod_loads[tt[0][0:4]] = np.round(df.values[:, 0].sum(), 2)  "
   ]
  },
  {
   "cell_type": "code",
   "execution_count": 30,
   "id": "lucky-trinidad",
   "metadata": {},
   "outputs": [],
   "source": [
    "# The event load coefficients\n",
    "for ii in mod_events.index:\n",
    "    df_event = load_flow_loc(mod_events.loc[ii, 'start':'end'].values, mod_load_flow, timestep='d')\n",
    "    ymd= pd.to_datetime(mod_events.loc[ii, 'start'])\n",
    "    month = ymd.month; year = ymd.year\n",
    "    if month < 7:\n",
    "        mod_events.loc[ii, 'event_load_coefficients'] = df_event.values[:, 0].sum() / mod_loads[str(year - 1)]\n",
    "    else:\n",
    "        mod_events.loc[ii, 'event_load_coefficients'] = df_event.values[:, 0].sum() / mod_loads[str(year)]"
   ]
  },
  {
   "cell_type": "code",
   "execution_count": 31,
   "id": "under-effects",
   "metadata": {},
   "outputs": [],
   "source": [
    "mod_events.to_csv(f'{outpath}{mod_event_fn}.csv')"
   ]
  },
  {
   "cell_type": "markdown",
   "id": "upper-command",
   "metadata": {},
   "source": [
    "## Calculate the peaktime difference between flow and loads"
   ]
  },
  {
   "cell_type": "markdown",
   "id": "connected-legislation",
   "metadata": {},
   "source": [
    "### Mod results"
   ]
  },
  {
   "cell_type": "code",
   "execution_count": 32,
   "id": "special-queens",
   "metadata": {},
   "outputs": [],
   "source": [
    "mod_event_fn = 'DIN_mod_storm_event_common'\n",
    "mod_events = pd.read_csv(f'{outpath}{mod_event_fn}.csv', index_col = 'ID') "
   ]
  },
  {
   "cell_type": "code",
   "execution_count": 33,
   "id": "interim-finish",
   "metadata": {},
   "outputs": [],
   "source": [
    "# find the peak time of loads\n",
    "clabel, llabel, qlabel = ['Downstream Flow Concentration (mg.L^-1)', 'Loads (kg)', 'Flow_cumecs (ML.day^-1)']\n",
    "for ii in mod_events.index:\n",
    "    df_event = load_flow_loc(mod_events.loc[ii, 'start':'end'].values, mod_load_flow, timestep='d')\n",
    "    peaktime_load = df_event[df_event.loc[:, llabel]==df_event.loc[:, llabel].max()].index\n",
    "    peaktime_conc = df_event[df_event.loc[:, clabel]==df_event.loc[:, clabel].max()].index[0]\n",
    "    \n",
    "    mod_events.loc[ii, 'peaktime_load'] = peaktime_load\n",
    "    mod_events.loc[ii, 'peaktime_conc'] = peaktime_conc\n",
    "    mod_events.loc[ii, 'peakflow'] = df_event.loc[:, qlabel].max()\n",
    "    mod_events.loc[ii, 'peaktime'] = df_event[df_event.loc[:, qlabel]==df_event.loc[:, qlabel].max()].index\n",
    "    mod_events.loc[ii, 'peak_flow_time'] = df_event[df_event.loc[:, qlabel]==df_event.loc[:, qlabel].max()].index[0]\n",
    "    mod_events.loc[ii, 'peak_conc_time'] = df_event[df_event.loc[:, clabel]==df_event.loc[:, clabel].max()].index[0]\n",
    "    mod_events.loc[ii, 'peak_load_time'] = df_event[df_event.loc[:, llabel]==df_event.loc[:, llabel].max()].index[0]\n",
    "    \n",
    "# mod_events.loc[:, 'delta_time'] = mod_events.peaktime_load - mod_events.peaktime"
   ]
  },
  {
   "cell_type": "code",
   "execution_count": 34,
   "id": "filled-bridal",
   "metadata": {},
   "outputs": [],
   "source": [
    "mod_events.loc[:, 'delta_load_flow_time'] = pd.to_datetime(mod_events.peak_load_time) - pd.to_datetime(mod_events.peak_flow_time)\n",
    "mod_events.loc[:, 'delta_conc_flow_time'] = pd.to_datetime(mod_events.peak_conc_time) - pd.to_datetime(mod_events.peak_flow_time)"
   ]
  },
  {
   "cell_type": "code",
   "execution_count": 40,
   "id": "outstanding-principle",
   "metadata": {},
   "outputs": [],
   "source": [
    "mod_events.to_csv(f'{outpath}{mod_event_fn}.csv')"
   ]
  },
  {
   "cell_type": "markdown",
   "id": "plastic-signature",
   "metadata": {},
   "source": [
    "### Obs results"
   ]
  },
  {
   "cell_type": "code",
   "execution_count": 36,
   "id": "broad-olympus",
   "metadata": {},
   "outputs": [],
   "source": [
    "obs_event_fn = 'obs_storm_event_common'\n",
    "obs_events = pd.read_csv(f'{outpath}{obs_event_fn}.csv', index_col = 'ID') "
   ]
  },
  {
   "cell_type": "code",
   "execution_count": 37,
   "id": "naughty-waters",
   "metadata": {},
   "outputs": [
    {
     "name": "stderr",
     "output_type": "stream",
     "text": [
      "F:\\Anaconda\\envs\\oed\\lib\\site-packages\\pandas\\core\\tools\\datetimes.py:129: FutureWarning: In the future, 'NAT == x' and 'x == NAT' will always be False.\n",
      "  unique_elements = set(islice(arg, check_count))\n",
      "F:\\Anaconda\\envs\\oed\\lib\\site-packages\\pandas\\core\\tools\\datetimes.py:129: FutureWarning: In the future, 'NAT == x' and 'x == NAT' will always be False.\n",
      "  unique_elements = set(islice(arg, check_count))\n",
      "F:\\Anaconda\\envs\\oed\\lib\\site-packages\\pandas\\core\\tools\\datetimes.py:129: FutureWarning: In the future, 'NAT == x' and 'x == NAT' will always be False.\n",
      "  unique_elements = set(islice(arg, check_count))\n",
      "F:\\Anaconda\\envs\\oed\\lib\\site-packages\\pandas\\core\\tools\\datetimes.py:129: FutureWarning: In the future, 'NAT == x' and 'x == NAT' will always be False.\n",
      "  unique_elements = set(islice(arg, check_count))\n"
     ]
    }
   ],
   "source": [
    "# find the peak time of loads\n",
    "for ii in obs_events.index:\n",
    "    if ii < 38:\n",
    "        df_event = load_flow_loc(obs_events.loc[ii, 'start':'end'].values, day_load_flow, timestep='d')\n",
    "        clabel, llabel, qlabel = ['Concentration (mg/L)', 'Linear_Average_Load(t)', 'Flow(ML)']\n",
    "    else:\n",
    "        clabel, llabel, qlabel = ['126001A-NO3(mg/l)', 'Loads (kg)', 'Flow (ML)']\n",
    "        df_event = load_flow_loc(obs_events.loc[ii, 'start':'end'].values, hour_load_flow, timestep='h')\n",
    "    peaktime_load = df_event[df_event.loc[:, llabel]==df_event.loc[:, llabel].max()].index[0]\n",
    "    peaktime_conc = df_event[df_event.loc[:, clabel]==df_event.loc[:, clabel].max()].index[0]\n",
    "\n",
    "    obs_events.loc[ii, 'peaktime_load'] = peaktime_load\n",
    "    obs_events.loc[ii, 'peaktime_conc'] = peaktime_conc\n",
    "    obs_events.loc[ii, 'peakflow'] = df_event.loc[:, qlabel].max()\n",
    "    obs_events.loc[ii, 'peak_flow_time'] = df_event[df_event.loc[:, qlabel]==df_event.loc[:, qlabel].max()].index[0]\n",
    "    obs_events.loc[ii, 'peak_conc_time'] = df_event[df_event.loc[:, clabel]==df_event.loc[:, clabel].max()].index[0]\n",
    "    obs_events.loc[ii, 'peak_load_time'] = df_event[df_event.loc[:, llabel]==df_event.loc[:, llabel].max()].index[0]\n",
    "    \n",
    "obs_events.loc[:, 'delta_load_flow_time'] = pd.to_datetime(obs_events.peak_load_time) - pd.to_datetime(obs_events.peak_flow_time)\n",
    "obs_events.loc[:, 'delta_conc_flow_time'] = pd.to_datetime(obs_events.peak_conc_time) - pd.to_datetime(obs_events.peak_flow_time)"
   ]
  },
  {
   "cell_type": "code",
   "execution_count": 39,
   "id": "later-engineering",
   "metadata": {},
   "outputs": [],
   "source": [
    "obs_events.to_csv(f'{outpath}{obs_event_fn}.csv')"
   ]
  },
  {
   "cell_type": "markdown",
   "id": "noticed-thread",
   "metadata": {},
   "source": [
    "## Variability of load-discharge ratio (seasonal average concentration)"
   ]
  },
  {
   "cell_type": "markdown",
   "id": "numerous-hunger",
   "metadata": {},
   "source": [
    "### Obs results"
   ]
  },
  {
   "cell_type": "code",
   "execution_count": 22,
   "id": "hybrid-exhibition",
   "metadata": {},
   "outputs": [],
   "source": [
    "time_ranges = [[f'{year}/7/1', f'{year}/10/1', f'{year+1}/1/1', f'{year+1}/4/1', f'{year+1}/7/1'] for year in range(2009, 2018)]\n",
    "df_ratio = pd.DataFrame(index=[str(year) for year in range(2009, 2018)], columns = [1, 2, 3, 4])"
   ]
  },
  {
   "cell_type": "code",
   "execution_count": 23,
   "id": "italic-patio",
   "metadata": {},
   "outputs": [],
   "source": [
    "for tt in time_ranges:\n",
    "    for ii in range(len(tt) -1):\n",
    "        start = pd.to_datetime(tt[ii])\n",
    "        end = pd.to_datetime(tt[ii + 1]) - datetime.timedelta(days=1)   \n",
    "        df = load_flow_loc([start, end], day_load_flow, timestep ='d')\n",
    "        df_ratio.loc[tt[0][0:4], ii+1] = df.sum(axis=0)[0] / df.sum(axis=0)[2] * 1000"
   ]
  },
  {
   "cell_type": "code",
   "execution_count": 24,
   "id": "classical-guidance",
   "metadata": {},
   "outputs": [],
   "source": [
    "df_ratio.to_csv(f'{outpath}obs_seasonal_concentration.csv')"
   ]
  },
  {
   "cell_type": "markdown",
   "id": "failing-perry",
   "metadata": {},
   "source": [
    "### Mod results"
   ]
  },
  {
   "cell_type": "code",
   "execution_count": 25,
   "id": "adjusted-hazard",
   "metadata": {},
   "outputs": [],
   "source": [
    "time_ranges = [[f'{year}/7/1', f'{year}/10/1', f'{year+1}/1/1', f'{year+1}/4/1', f'{year+1}/7/1'] for year in range(2009, 2018)]\n",
    "df_ratio = pd.DataFrame(index=[str(year) for year in range(2009, 2018)], columns = [1, 2, 3, 4])"
   ]
  },
  {
   "cell_type": "code",
   "execution_count": 26,
   "id": "humanitarian-hacker",
   "metadata": {},
   "outputs": [],
   "source": [
    "for tt in time_ranges:\n",
    "    for ii in range(len(tt) -1):\n",
    "        start = pd.to_datetime(tt[ii])\n",
    "        end = pd.to_datetime(tt[ii + 1]) - datetime.timedelta(days=1)   \n",
    "        df = load_flow_loc([start, end], mod_load_flow, timestep ='d')\n",
    "        df_ratio.loc[tt[0][0:4], ii+1] = df.sum(axis=0)[0] / df.sum(axis=0)[2]"
   ]
  },
  {
   "cell_type": "code",
   "execution_count": 27,
   "id": "liquid-heater",
   "metadata": {},
   "outputs": [],
   "source": [
    "df_ratio.to_csv(f'{outpath}mod_seasonal_concentration.csv')"
   ]
  },
  {
   "cell_type": "markdown",
   "id": "about-minnesota",
   "metadata": {},
   "source": [
    "## Monthly loads"
   ]
  },
  {
   "cell_type": "code",
   "execution_count": 29,
   "id": "historic-muscle",
   "metadata": {},
   "outputs": [],
   "source": [
    "df_month = pd.DataFrame(columns = ['obs', 'mod'])"
   ]
  },
  {
   "cell_type": "code",
   "execution_count": 30,
   "id": "thrown-hotel",
   "metadata": {},
   "outputs": [],
   "source": [
    "# calculate the monthly loads and flow\n",
    "for y in range(2009, 2019):\n",
    "    for m in range(1, 13):\n",
    "        start = pd.to_datetime(f'{y}/{m}/1')\n",
    "        if m == 12:\n",
    "            end = pd.to_datetime(f'{y+1}/1/1') - datetime.timedelta(days=1) \n",
    "        else:\n",
    "            end = pd.to_datetime(f'{y}/{m+1}/1') - datetime.timedelta(days=1)\n",
    "            \n",
    "        df_month.loc[f'{y}/{m}', 'obs'] = 1000 * load_flow_loc([start, end], day_load_flow, timestep ='d').sum(axis=0)[0]\n",
    "        df_month.loc[f'{y}/{m}', 'mod'] = load_flow_loc([start, end], mod_load_flow, timestep ='d').sum(axis=0)[0]    \n",
    "df_month = df_month[(df_month.obs != 0) & (df_month.loc[:, 'mod'] != 0)]\n",
    "df_month.index.name = 'Month'"
   ]
  },
  {
   "cell_type": "code",
   "execution_count": 31,
   "id": "decimal-realtor",
   "metadata": {},
   "outputs": [],
   "source": [
    "df_month.to_csv(f'{outpath}mod_obs_month.csv')"
   ]
  },
  {
   "cell_type": "markdown",
   "id": "enhanced-content",
   "metadata": {},
   "source": [
    "## Calculate the coefficients of variation for concentrations (CVC) and discharge (CVQ), their ratio (CVC:CVQ)"
   ]
  },
  {
   "cell_type": "code",
   "execution_count": 32,
   "id": "searching-discrimination",
   "metadata": {},
   "outputs": [],
   "source": [
    "# define timeperiod\n",
    "time_ranges = pd.to_datetime(['2009/7/1', '2018/6/30'])\n",
    "df_cv = pd.DataFrame(columns=['obs', 'mod'], index=['cvc', 'cvq', 'cvl'])\n",
    "start, end = time_ranges"
   ]
  },
  {
   "cell_type": "code",
   "execution_count": 33,
   "id": "amateur-cuisine",
   "metadata": {},
   "outputs": [],
   "source": [
    "# read obs time series of flow, loads and concentration\n",
    "df_obs = load_flow_loc([start, end], day_load_flow, timestep ='d')\n",
    "cv_all = (df_obs.std(axis=0) / df_obs.mean(axis=0))\n",
    "cols = df_obs.columns\n",
    "df_cv.loc[:, 'obs'] = [cv_all[cols[3]], cv_all[cols[2]], cv_all[cols[0]]]"
   ]
  },
  {
   "cell_type": "code",
   "execution_count": 34,
   "id": "monetary-fusion",
   "metadata": {},
   "outputs": [],
   "source": [
    "# read mod time series of flow, loads and concentration\n",
    "df_mod = load_flow_loc([start, end], mod_load_flow, timestep ='d')\n",
    "cv_all = (df_mod.std(axis=0) / df_mod.mean(axis=0))\n",
    "cols = df_mod.columns\n",
    "df_cv.loc[:, 'mod'] = [cv_all[cols[1]], cv_all[cols[2]], cv_all[cols[0]]]\n",
    "\n",
    "df_cv.loc['cq', :] = df_cv.loc['cvc', :] / df_cv.loc['cvq', :]\n",
    "df_cv.loc['lq', :] = df_cv.loc['cvl', :] / df_cv.loc['cvq', :]"
   ]
  },
  {
   "cell_type": "code",
   "execution_count": 35,
   "id": "closing-preference",
   "metadata": {},
   "outputs": [],
   "source": [
    "df_cv.to_csv(f'{outpath}cv_cql.csv')"
   ]
  },
  {
   "cell_type": "markdown",
   "id": "gothic-suite",
   "metadata": {},
   "source": [
    "## Linear regression of C-Q"
   ]
  },
  {
   "cell_type": "code",
   "execution_count": 3,
   "id": "tracked-transportation",
   "metadata": {},
   "outputs": [],
   "source": [
    "# import necessary packages\n",
    "from sklearn.metrics import r2_score\n",
    "from utils.signatures import residual, nonlinear_fit\n",
    "from utils.plotting import regression_plot\n",
    "import lmfit"
   ]
  },
  {
   "cell_type": "code",
   "execution_count": 167,
   "id": "ready-visibility",
   "metadata": {},
   "outputs": [],
   "source": [
    "# define x and y\n",
    "time_range = [['/7/1', '/10/1'], ['/10/1', '/1/1'], ['/1/1', '/4/1'], ['/4/1', '/7/1']]\n",
    "cols = mod_load_flow.columns\n",
    "# day_load_flow.loc[:, cols[0]] = day_load_flow.loc[:, cols[0]]*1000"
   ]
  },
  {
   "cell_type": "code",
   "execution_count": 171,
   "id": "flexible-sucking",
   "metadata": {},
   "outputs": [],
   "source": [
    "x_dict, y_dict = {}, {}\n",
    "k = 1\n",
    "for tt in time_range:\n",
    "    x, y = np.array([]), np.array([])\n",
    "    for year in range(2009, 2019):\n",
    "        start = pd.to_datetime(f'{year}{tt[0]}')\n",
    "        if tt[1] == '/1/1':\n",
    "            end = pd.to_datetime(f'{year+1}{tt[1]}') - datetime.timedelta(days=1)\n",
    "        else:\n",
    "            end = pd.to_datetime(f'{year}{tt[1]}') - datetime.timedelta(days=1)\n",
    "        df_temp = load_flow_loc([start, end], mod_load_flow, timestep ='d')\n",
    "        x = np.append(x, df_temp.values[:, 2])\n",
    "        y = np.append(y, df_temp.values[:, 0])\n",
    "    x_dict[f'{k}_x'] = x\n",
    "    x_dict[f'{k}_y'] = y\n",
    "    k += 1"
   ]
  },
  {
   "cell_type": "code",
   "execution_count": 179,
   "id": "dress-convenience",
   "metadata": {
    "collapsed": true,
    "jupyter": {
     "outputs_hidden": true
    }
   },
   "outputs": [
    {
     "name": "stdout",
     "output_type": "stream",
     "text": [
      "[[Variables]]\n",
      "    a:  0.04437146 +/- 0.00512987 (11.56%) (init = 0.04437146)\n",
      "    b:  1.28675687 +/- 0.03639772 (2.83%) (init = 1.286757)\n",
      "    c:  0.00000000 +/- 3.2932e-11 (inf%) (init = 0)\n",
      "[[Correlations]] (unreported correlations are < 0.100)\n",
      "    C(a, b) = -0.915\n",
      "    C(a, c) = -0.743\n",
      "    C(b, c) =  0.672\n"
     ]
    },
    {
     "name": "stderr",
     "output_type": "stream",
     "text": [
      "C:\\Users\\qianw\\anaconda3\\envs\\oed\\lib\\site-packages\\lmfit\\confidence.py:319: UserWarning: Bound reached with prob(c=0) = 0.0 < max(sigmas)\n",
      "  warn(errmsg)\n"
     ]
    },
    {
     "name": "stdout",
     "output_type": "stream",
     "text": [
      "      95.45%    68.27%    _BEST_    68.27%    95.45%\n",
      " a:  -0.00226  -0.00108   0.04437  +0.00188  +0.00385\n",
      " b:  -0.00930  -0.00383   1.28676  +0.01333  +0.02660\n",
      " c:      -inf      -inf   0.00000  +0.00108  +0.00382\n",
      "[[Variables]]\n",
      "    a:  0.28381429 +/- 0.02335964 (8.23%) (init = 0.2838143)\n",
      "    b:  1.09071015 +/- 0.02428153 (2.23%) (init = 1.09071)\n",
      "    c:  0.00000000 +/- 8.8973e-11 (inf%) (init = 0)\n",
      "[[Correlations]] (unreported correlations are < 0.100)\n",
      "    C(a, b) = -0.752\n",
      "    C(a, c) = -0.719\n",
      "    C(b, c) =  0.531\n"
     ]
    },
    {
     "name": "stderr",
     "output_type": "stream",
     "text": [
      "C:\\Users\\qianw\\anaconda3\\envs\\oed\\lib\\site-packages\\lmfit\\confidence.py:319: UserWarning: Bound reached with prob(c=0) = 0.0 < max(sigmas)\n",
      "  warn(errmsg)\n"
     ]
    },
    {
     "name": "stdout",
     "output_type": "stream",
     "text": [
      "      95.45%    68.27%    _BEST_    68.27%    95.45%\n",
      " a:  -0.02341  -0.01192   0.28381  +0.01237  +0.02522\n",
      " b:  -0.02358  -0.01166   1.09071  +0.01140  +0.02252\n",
      " c:      -inf      -inf   0.00000  +0.00035  +0.00140\n",
      "[[Variables]]\n",
      "    a:  0.12792051 +/- 0.02013378 (15.74%) (init = 0.1279205)\n",
      "    b:  1.02038065 +/- 0.02144549 (2.10%) (init = 1.020381)\n",
      "    c:  6.51441502 +/- 0.44781624 (6.87%) (init = 6.514415)\n",
      "[[Correlations]] (unreported correlations are < 0.100)\n",
      "    C(a, b) = -0.975\n",
      "    C(a, c) = -0.628\n",
      "    C(b, c) =  0.574\n",
      "      95.45%    68.27%    _BEST_    68.27%    95.45%\n",
      " a:  -0.02670  -0.01326   0.12792  +0.01913  +0.04261\n",
      " b:  -0.03759  -0.01707   1.02038  +0.01171  +0.02700\n",
      " c:  -0.89112  -0.36047   6.51442  +0.32779  +0.74388\n",
      "[[Variables]]\n",
      "    a:  0.14737838 +/- 0.03075878 (20.87%) (init = 0.1477953)\n",
      "    b:  1.08661110 +/- 0.04407610 (4.06%) (init = 1.086232)\n",
      "    c:  0.56508922 +/- 0.20882216 (36.95%) (init = 0.5745331)\n",
      "[[Correlations]] (unreported correlations are < 0.100)\n",
      "    C(a, b) = -0.966\n",
      "    C(a, c) = -0.720\n",
      "    C(b, c) =  0.633\n",
      "      95.45%    68.27%    _BEST_    68.27%    95.45%\n",
      " a:  -0.03050  -0.01442   0.14738  +0.05616  +0.11130\n",
      " b:  -0.12169  -0.06862   1.08661  +0.01298  +0.02906\n",
      " c:  -0.53407  -0.32035   0.56509  +0.14826  +0.36551\n"
     ]
    }
   ],
   "source": [
    "# variables are x and y\n",
    "coeff_regress = pd.DataFrame(columns = np.arange(1, 5), index=['R2', 'a', 'b', 'c'])\n",
    "for k in range(1, 5):\n",
    "    x = x_dict[f'{k}_x']\n",
    "    y = x_dict[f'{k}_y']\n",
    "    p = lmfit.Parameters()\n",
    "    p.add_many(('a', 0.1, True, 0, 10), ('b', 2, True, 0, 2), ('c', 1, True, 0, 10))\n",
    "    out1, out2, ci, trace = nonlinear_fit(p, residual, x, y, opti_method='differential_evolution')# lmfit, x=x_input, y=y_output,\n",
    "\n",
    "    # compare coefficient of determination\n",
    "    para_values = {}\n",
    "    for param in ['a', 'b', 'c']: \n",
    "        para_values[param] = np.round(trace['a'][param][0], 4)\n",
    "    y_mod = para_values['a'] * x ** para_values['b']+ para_values['c']\n",
    "    r2 = r2_score(np.log(y), np.log(y_mod))\n",
    "    abs_bias = np.abs(np.average(y_mod - y))\n",
    "    rel_bias = abs_bias / np.average(y)\n",
    "    coeff_regress.loc[:, k] = [r2, para_values['a'], para_values['b'], para_values['c']]"
   ]
  },
  {
   "cell_type": "code",
   "execution_count": 181,
   "id": "computational-privilege",
   "metadata": {},
   "outputs": [],
   "source": [
    "coeff_regress.to_csv(outpath+'mod_cq_regress.csv')"
   ]
  },
  {
   "cell_type": "markdown",
   "id": "minute-tournament",
   "metadata": {},
   "source": [
    "## Calculate the variation of delivery ratio-surface"
   ]
  },
  {
   "cell_type": "code",
   "execution_count": 5,
   "id": "restricted-adelaide",
   "metadata": {},
   "outputs": [],
   "source": [
    "# read observations, modeled outputs with delivery ratio at 0 and 25 (%)\n",
    "mod_fl_fn = 'DIN_sources.csv'\n",
    "mod_drs0 = pd.read_csv(modpath + mod_fl_fn, index_col='Date')\n",
    "mod_drs0.index = pd.to_datetime(mod_drs0.index, dayfirst=False)"
   ]
  },
  {
   "cell_type": "code",
   "execution_count": 6,
   "id": "surface-tongue",
   "metadata": {},
   "outputs": [],
   "source": [
    "arrays = [['surface', 'surface', 'surface', 'surface', 'seepage', 'seepage', 'seepage', 'seepage', 'DWC', 'DWC', 'DWC', 'DWC',\n",
    "          'dwc_const', 'dwc_const', 'dwc_const', 'dwc_const', 'emc_const', 'emc_const', 'emc_const', 'emc_const'],\n",
    "          ['median', 'min', 'max', 'mean', 'median', 'min', 'max', 'mean', 'median', 'min', 'max', 'mean', \n",
    "           'median', 'min', 'max', 'mean', 'median', 'min', 'max', 'mean' ]]\n",
    "tuples = list(zip(*arrays))\n",
    "index = pd.MultiIndex.from_tuples(tuples)"
   ]
  },
  {
   "cell_type": "code",
   "execution_count": 20,
   "id": "moderate-switch",
   "metadata": {},
   "outputs": [],
   "source": [
    "df_month = pd.DataFrame(columns=mod_drs0.columns)\n",
    "# calculate the monthly loads and flow\n",
    "for y in range(2009, 2019):\n",
    "    for m in range(1, 13):\n",
    "        start = pd.to_datetime(f'{y}/{m}/1')\n",
    "        if m == 12:\n",
    "#             import pdb; pdb.set_trace()\n",
    "            end = pd.to_datetime(f'{y+1}/1/1') - datetime.timedelta(days=1) \n",
    "        else:\n",
    "            end = pd.to_datetime(f'{y}/{m+1}/1') - datetime.timedelta(days=1)\n",
    "#         \n",
    "        df_month.loc[f'{y}/{m}', :] = load_flow_loc([start, end], mod_drs0, timestep ='d').sum(axis=0)\n",
    "df_month = df_month[(df_month.loc[:, df_month.columns[0]] != 0)]\n",
    "df_month.index.name = 'Month'"
   ]
  },
  {
   "cell_type": "code",
   "execution_count": 13,
   "id": "attractive-ireland",
   "metadata": {},
   "outputs": [
    {
     "data": {
      "text/html": [
       "<div>\n",
       "<style scoped>\n",
       "    .dataframe tbody tr th:only-of-type {\n",
       "        vertical-align: middle;\n",
       "    }\n",
       "\n",
       "    .dataframe tbody tr th {\n",
       "        vertical-align: top;\n",
       "    }\n",
       "\n",
       "    .dataframe thead th {\n",
       "        text-align: right;\n",
       "    }\n",
       "</style>\n",
       "<table border=\"1\" class=\"dataframe\">\n",
       "  <thead>\n",
       "    <tr style=\"text-align: right;\">\n",
       "      <th></th>\n",
       "      <th>mod_all</th>\n",
       "      <th>mod_surface</th>\n",
       "      <th>mod_seepage</th>\n",
       "      <th>mod_DWC</th>\n",
       "      <th>mod_dwc</th>\n",
       "      <th>mod_emc</th>\n",
       "      <th>obs</th>\n",
       "    </tr>\n",
       "    <tr>\n",
       "      <th>Month</th>\n",
       "      <th></th>\n",
       "      <th></th>\n",
       "      <th></th>\n",
       "      <th></th>\n",
       "      <th></th>\n",
       "      <th></th>\n",
       "      <th></th>\n",
       "    </tr>\n",
       "  </thead>\n",
       "  <tbody>\n",
       "    <tr>\n",
       "      <th>2009/7</th>\n",
       "      <td>7.71861</td>\n",
       "      <td>0.753993</td>\n",
       "      <td>0.492195</td>\n",
       "      <td>1.64898</td>\n",
       "      <td>4.27022</td>\n",
       "      <td>0.553221</td>\n",
       "      <td>53.5864</td>\n",
       "    </tr>\n",
       "    <tr>\n",
       "      <th>2009/8</th>\n",
       "      <td>1.84695</td>\n",
       "      <td>0.0228792</td>\n",
       "      <td>0.233555</td>\n",
       "      <td>0.402991</td>\n",
       "      <td>1.14661</td>\n",
       "      <td>0.0409206</td>\n",
       "      <td>96.7843</td>\n",
       "    </tr>\n",
       "    <tr>\n",
       "      <th>2009/9</th>\n",
       "      <td>1.2901</td>\n",
       "      <td>0.00291682</td>\n",
       "      <td>0.227205</td>\n",
       "      <td>0.180846</td>\n",
       "      <td>0.467057</td>\n",
       "      <td>0.412074</td>\n",
       "      <td>88.9301</td>\n",
       "    </tr>\n",
       "    <tr>\n",
       "      <th>2009/10</th>\n",
       "      <td>0.469659</td>\n",
       "      <td>0.000538975</td>\n",
       "      <td>0.0561652</td>\n",
       "      <td>0.0576671</td>\n",
       "      <td>0.152037</td>\n",
       "      <td>0.20325</td>\n",
       "      <td>20.9705</td>\n",
       "    </tr>\n",
       "    <tr>\n",
       "      <th>2009/11</th>\n",
       "      <td>777.769</td>\n",
       "      <td>653.604</td>\n",
       "      <td>84.1427</td>\n",
       "      <td>0.878403</td>\n",
       "      <td>2.22915</td>\n",
       "      <td>36.9147</td>\n",
       "      <td>183.754</td>\n",
       "    </tr>\n",
       "  </tbody>\n",
       "</table>\n",
       "</div>"
      ],
      "text/plain": [
       "          mod_all  mod_surface mod_seepage    mod_DWC   mod_dwc    mod_emc  \\\n",
       "Month                                                                        \n",
       "2009/7    7.71861     0.753993    0.492195    1.64898   4.27022   0.553221   \n",
       "2009/8    1.84695    0.0228792    0.233555   0.402991   1.14661  0.0409206   \n",
       "2009/9     1.2901   0.00291682    0.227205   0.180846  0.467057   0.412074   \n",
       "2009/10  0.469659  0.000538975   0.0561652  0.0576671  0.152037    0.20325   \n",
       "2009/11   777.769      653.604     84.1427   0.878403   2.22915    36.9147   \n",
       "\n",
       "             obs  \n",
       "Month             \n",
       "2009/7   53.5864  \n",
       "2009/8   96.7843  \n",
       "2009/9   88.9301  \n",
       "2009/10  20.9705  \n",
       "2009/11  183.754  "
      ]
     },
     "execution_count": 13,
     "metadata": {},
     "output_type": "execute_result"
    }
   ],
   "source": [
    "df_month.head()"
   ]
  },
  {
   "cell_type": "code",
   "execution_count": 21,
   "id": "furnished-restaurant",
   "metadata": {},
   "outputs": [],
   "source": [
    "for col in df_month.columns:\n",
    "    df_month[col+'_ratio'] = (df_month['obs'] - df_month['mod_all'] + df_month[col]) / df_month[col]\n",
    "#     df_month['drs'] = (df_month['obs'] - df_month['mod_all'] + df_month[col]) / df_month[col]"
   ]
  },
  {
   "cell_type": "code",
   "execution_count": 22,
   "id": "explicit-responsibility",
   "metadata": {},
   "outputs": [
    {
     "data": {
      "text/html": [
       "<div>\n",
       "<style scoped>\n",
       "    .dataframe tbody tr th:only-of-type {\n",
       "        vertical-align: middle;\n",
       "    }\n",
       "\n",
       "    .dataframe tbody tr th {\n",
       "        vertical-align: top;\n",
       "    }\n",
       "\n",
       "    .dataframe thead th {\n",
       "        text-align: right;\n",
       "    }\n",
       "</style>\n",
       "<table border=\"1\" class=\"dataframe\">\n",
       "  <thead>\n",
       "    <tr style=\"text-align: right;\">\n",
       "      <th></th>\n",
       "      <th>mod_all</th>\n",
       "      <th>mod_surface</th>\n",
       "      <th>mod_seepage</th>\n",
       "      <th>mod_DWC</th>\n",
       "      <th>mod_dwc</th>\n",
       "      <th>mod_emc</th>\n",
       "      <th>obs</th>\n",
       "      <th>mod_all_ratio</th>\n",
       "      <th>mod_surface_ratio</th>\n",
       "      <th>mod_seepage_ratio</th>\n",
       "      <th>mod_DWC_ratio</th>\n",
       "      <th>mod_dwc_ratio</th>\n",
       "      <th>mod_emc_ratio</th>\n",
       "      <th>obs_ratio</th>\n",
       "    </tr>\n",
       "    <tr>\n",
       "      <th>Month</th>\n",
       "      <th></th>\n",
       "      <th></th>\n",
       "      <th></th>\n",
       "      <th></th>\n",
       "      <th></th>\n",
       "      <th></th>\n",
       "      <th></th>\n",
       "      <th></th>\n",
       "      <th></th>\n",
       "      <th></th>\n",
       "      <th></th>\n",
       "      <th></th>\n",
       "      <th></th>\n",
       "      <th></th>\n",
       "    </tr>\n",
       "  </thead>\n",
       "  <tbody>\n",
       "    <tr>\n",
       "      <th>2009/7</th>\n",
       "      <td>7.71861</td>\n",
       "      <td>0.753993</td>\n",
       "      <td>0.492195</td>\n",
       "      <td>1.64898</td>\n",
       "      <td>4.27022</td>\n",
       "      <td>0.553221</td>\n",
       "      <td>53.5864</td>\n",
       "      <td>6.94249</td>\n",
       "      <td>61.8332</td>\n",
       "      <td>94.1903</td>\n",
       "      <td>28.8158</td>\n",
       "      <td>11.7413</td>\n",
       "      <td>83.9104</td>\n",
       "      <td>1.85596</td>\n",
       "    </tr>\n",
       "    <tr>\n",
       "      <th>2009/8</th>\n",
       "      <td>1.84695</td>\n",
       "      <td>0.0228792</td>\n",
       "      <td>0.233555</td>\n",
       "      <td>0.402991</td>\n",
       "      <td>1.14661</td>\n",
       "      <td>0.0409206</td>\n",
       "      <td>96.7843</td>\n",
       "      <td>52.4022</td>\n",
       "      <td>4150.51</td>\n",
       "      <td>407.487</td>\n",
       "      <td>236.582</td>\n",
       "      <td>83.7986</td>\n",
       "      <td>2321.04</td>\n",
       "      <td>1.98092</td>\n",
       "    </tr>\n",
       "    <tr>\n",
       "      <th>2009/9</th>\n",
       "      <td>1.2901</td>\n",
       "      <td>0.00291682</td>\n",
       "      <td>0.227205</td>\n",
       "      <td>0.180846</td>\n",
       "      <td>0.467057</td>\n",
       "      <td>0.412074</td>\n",
       "      <td>88.9301</td>\n",
       "      <td>68.9328</td>\n",
       "      <td>30047.4</td>\n",
       "      <td>386.732</td>\n",
       "      <td>485.611</td>\n",
       "      <td>188.643</td>\n",
       "      <td>213.68</td>\n",
       "      <td>1.98549</td>\n",
       "    </tr>\n",
       "    <tr>\n",
       "      <th>2009/10</th>\n",
       "      <td>0.469659</td>\n",
       "      <td>0.000538975</td>\n",
       "      <td>0.0561652</td>\n",
       "      <td>0.0576671</td>\n",
       "      <td>0.152037</td>\n",
       "      <td>0.20325</td>\n",
       "      <td>20.9705</td>\n",
       "      <td>44.6505</td>\n",
       "      <td>38037.7</td>\n",
       "      <td>366.01</td>\n",
       "      <td>356.503</td>\n",
       "      <td>135.841</td>\n",
       "      <td>101.865</td>\n",
       "      <td>1.9776</td>\n",
       "    </tr>\n",
       "    <tr>\n",
       "      <th>2009/11</th>\n",
       "      <td>777.769</td>\n",
       "      <td>653.604</td>\n",
       "      <td>84.1427</td>\n",
       "      <td>0.878403</td>\n",
       "      <td>2.22915</td>\n",
       "      <td>36.9147</td>\n",
       "      <td>183.754</td>\n",
       "      <td>0.236258</td>\n",
       "      <td>0.0911699</td>\n",
       "      <td>-6.05961</td>\n",
       "      <td>-675.244</td>\n",
       "      <td>-265.477</td>\n",
       "      <td>-15.0915</td>\n",
       "      <td>-2.23266</td>\n",
       "    </tr>\n",
       "  </tbody>\n",
       "</table>\n",
       "</div>"
      ],
      "text/plain": [
       "          mod_all  mod_surface mod_seepage    mod_DWC   mod_dwc    mod_emc  \\\n",
       "Month                                                                        \n",
       "2009/7    7.71861     0.753993    0.492195    1.64898   4.27022   0.553221   \n",
       "2009/8    1.84695    0.0228792    0.233555   0.402991   1.14661  0.0409206   \n",
       "2009/9     1.2901   0.00291682    0.227205   0.180846  0.467057   0.412074   \n",
       "2009/10  0.469659  0.000538975   0.0561652  0.0576671  0.152037    0.20325   \n",
       "2009/11   777.769      653.604     84.1427   0.878403   2.22915    36.9147   \n",
       "\n",
       "             obs mod_all_ratio mod_surface_ratio mod_seepage_ratio  \\\n",
       "Month                                                                \n",
       "2009/7   53.5864       6.94249           61.8332           94.1903   \n",
       "2009/8   96.7843       52.4022           4150.51           407.487   \n",
       "2009/9   88.9301       68.9328           30047.4           386.732   \n",
       "2009/10  20.9705       44.6505           38037.7            366.01   \n",
       "2009/11  183.754      0.236258         0.0911699          -6.05961   \n",
       "\n",
       "        mod_DWC_ratio mod_dwc_ratio mod_emc_ratio obs_ratio  \n",
       "Month                                                        \n",
       "2009/7        28.8158       11.7413       83.9104   1.85596  \n",
       "2009/8        236.582       83.7986       2321.04   1.98092  \n",
       "2009/9        485.611       188.643        213.68   1.98549  \n",
       "2009/10       356.503       135.841       101.865    1.9776  \n",
       "2009/11      -675.244      -265.477      -15.0915  -2.23266  "
      ]
     },
     "execution_count": 22,
     "metadata": {},
     "output_type": "execute_result"
    }
   ],
   "source": [
    "df_month.head()"
   ]
  },
  {
   "cell_type": "code",
   "execution_count": 58,
   "id": "usual-velvet",
   "metadata": {},
   "outputs": [],
   "source": [
    "# df_concat.to_csv(outpath+'obs_mod_month.csv')"
   ]
  },
  {
   "cell_type": "code",
   "execution_count": 70,
   "id": "distant-diesel",
   "metadata": {},
   "outputs": [],
   "source": [
    "cols = ['median', 'min', 'max', 'mean_load_first']\n",
    "x_list = [*np.arange(7, 13), *np.arange(1, 7)]\n",
    "drs_stats = pd.DataFrame(columns=x_list, index=index)\n",
    "drs_stats.index.name = 'month'\n",
    "col_ratio = df_month.columns[8:13]\n",
    "for col in col_ratio:\n",
    "    k = list(col_ratio).index(col)\n",
    "    for i in range(12):\n",
    "        drs_stats.loc[index[(4 * k) : (4 * k + 3)], x_list[i]] = df_month[col][i::12].median(), df_month[col][i::12].min(), df_month[col][i::12].max()\n",
    "        obs_mod = (df_month['obs'][i::12].mean() + df_month[df_month.columns[k+1]][i::12].mean() - df_month['mod_all'][i::12].mean())\n",
    "        mod_mod0 = df_month[df_month.columns[k+1]][i::12].mean()\n",
    "        drs_stats.loc[index[4 * k + 3], x_list[i]] = obs_mod / mod_mod0\n",
    "drs_stats.to_csv(outpath+'DeliveryRatioSurface.csv')"
   ]
  },
  {
   "cell_type": "code",
   "execution_count": 71,
   "id": "constant-venture",
   "metadata": {},
   "outputs": [
    {
     "data": {
      "text/html": [
       "<div>\n",
       "<style scoped>\n",
       "    .dataframe tbody tr th:only-of-type {\n",
       "        vertical-align: middle;\n",
       "    }\n",
       "\n",
       "    .dataframe tbody tr th {\n",
       "        vertical-align: top;\n",
       "    }\n",
       "\n",
       "    .dataframe thead th {\n",
       "        text-align: right;\n",
       "    }\n",
       "</style>\n",
       "<table border=\"1\" class=\"dataframe\">\n",
       "  <thead>\n",
       "    <tr style=\"text-align: right;\">\n",
       "      <th></th>\n",
       "      <th></th>\n",
       "      <th>7</th>\n",
       "      <th>8</th>\n",
       "      <th>9</th>\n",
       "      <th>10</th>\n",
       "      <th>11</th>\n",
       "      <th>12</th>\n",
       "      <th>1</th>\n",
       "      <th>2</th>\n",
       "      <th>3</th>\n",
       "      <th>4</th>\n",
       "      <th>5</th>\n",
       "      <th>6</th>\n",
       "    </tr>\n",
       "  </thead>\n",
       "  <tbody>\n",
       "    <tr>\n",
       "      <th rowspan=\"4\" valign=\"top\">surface</th>\n",
       "      <th>median</th>\n",
       "      <td>61.8332</td>\n",
       "      <td>57.3708</td>\n",
       "      <td>318.152</td>\n",
       "      <td>9.12839</td>\n",
       "      <td>4.70579</td>\n",
       "      <td>2.7374</td>\n",
       "      <td>2.73682</td>\n",
       "      <td>1.07753</td>\n",
       "      <td>-0.390927</td>\n",
       "      <td>0.877783</td>\n",
       "      <td>21.1356</td>\n",
       "      <td>8.36317</td>\n",
       "    </tr>\n",
       "    <tr>\n",
       "      <th>min</th>\n",
       "      <td>-1.58069</td>\n",
       "      <td>-7.3971</td>\n",
       "      <td>-18.1146</td>\n",
       "      <td>-23.8787</td>\n",
       "      <td>-18.2219</td>\n",
       "      <td>-1.24346</td>\n",
       "      <td>1.09246</td>\n",
       "      <td>-3.3863</td>\n",
       "      <td>-9.72023</td>\n",
       "      <td>-8.33126</td>\n",
       "      <td>-2.02975</td>\n",
       "      <td>0.747725</td>\n",
       "    </tr>\n",
       "    <tr>\n",
       "      <th>max</th>\n",
       "      <td>45586.7</td>\n",
       "      <td>635189</td>\n",
       "      <td>6.74423e+06</td>\n",
       "      <td>1.21484e+07</td>\n",
       "      <td>4234.49</td>\n",
       "      <td>7.40847</td>\n",
       "      <td>19.977</td>\n",
       "      <td>4.28071</td>\n",
       "      <td>0.86025</td>\n",
       "      <td>67.237</td>\n",
       "      <td>118.93</td>\n",
       "      <td>680.06</td>\n",
       "    </tr>\n",
       "    <tr>\n",
       "      <th>mean</th>\n",
       "      <td>-0.0354917</td>\n",
       "      <td>4.86426</td>\n",
       "      <td>4.08439</td>\n",
       "      <td>1.45915</td>\n",
       "      <td>2.57306</td>\n",
       "      <td>1.68192</td>\n",
       "      <td>4.31499</td>\n",
       "      <td>1.01321</td>\n",
       "      <td>-0.317444</td>\n",
       "      <td>-0.410541</td>\n",
       "      <td>1.73949</td>\n",
       "      <td>2.39412</td>\n",
       "    </tr>\n",
       "    <tr>\n",
       "      <th rowspan=\"4\" valign=\"top\">seepage</th>\n",
       "      <th>median</th>\n",
       "      <td>3.54406</td>\n",
       "      <td>21.4665</td>\n",
       "      <td>29.0852</td>\n",
       "      <td>4.12541</td>\n",
       "      <td>2.80973</td>\n",
       "      <td>7.87321</td>\n",
       "      <td>4.95549</td>\n",
       "      <td>1.11148</td>\n",
       "      <td>-0.383699</td>\n",
       "      <td>0.725852</td>\n",
       "      <td>9.14394</td>\n",
       "      <td>4.87934</td>\n",
       "    </tr>\n",
       "    <tr>\n",
       "      <th>min</th>\n",
       "      <td>0.194401</td>\n",
       "      <td>0.721546</td>\n",
       "      <td>-0.0598309</td>\n",
       "      <td>-0.0513656</td>\n",
       "      <td>-6.05961</td>\n",
       "      <td>-0.142813</td>\n",
       "      <td>1.04127</td>\n",
       "      <td>-0.360255</td>\n",
       "      <td>-3.78789</td>\n",
       "      <td>0.124273</td>\n",
       "      <td>0.208692</td>\n",
       "      <td>0.155011</td>\n",
       "    </tr>\n",
       "    <tr>\n",
       "      <th>max</th>\n",
       "      <td>98.6216</td>\n",
       "      <td>970.923</td>\n",
       "      <td>7136.16</td>\n",
       "      <td>38400.2</td>\n",
       "      <td>78.4866</td>\n",
       "      <td>195.247</td>\n",
       "      <td>383.915</td>\n",
       "      <td>6.10918</td>\n",
       "      <td>0.819615</td>\n",
       "      <td>3.68493</td>\n",
       "      <td>24.334</td>\n",
       "      <td>146.778</td>\n",
       "    </tr>\n",
       "    <tr>\n",
       "      <th>mean</th>\n",
       "      <td>0.541971</td>\n",
       "      <td>5.7848</td>\n",
       "      <td>2.53332</td>\n",
       "      <td>1.30983</td>\n",
       "      <td>2.61828</td>\n",
       "      <td>2.30851</td>\n",
       "      <td>5.56358</td>\n",
       "      <td>1.01246</td>\n",
       "      <td>-0.929288</td>\n",
       "      <td>0.540311</td>\n",
       "      <td>1.23592</td>\n",
       "      <td>2.78637</td>\n",
       "    </tr>\n",
       "    <tr>\n",
       "      <th rowspan=\"4\" valign=\"top\">DWC</th>\n",
       "      <th>median</th>\n",
       "      <td>11.8215</td>\n",
       "      <td>261.788</td>\n",
       "      <td>640.365</td>\n",
       "      <td>410.542</td>\n",
       "      <td>539.58</td>\n",
       "      <td>524.132</td>\n",
       "      <td>311.466</td>\n",
       "      <td>7.17943</td>\n",
       "      <td>-147.35</td>\n",
       "      <td>-5.71626</td>\n",
       "      <td>290.078</td>\n",
       "      <td>78.3427</td>\n",
       "    </tr>\n",
       "    <tr>\n",
       "      <th>min</th>\n",
       "      <td>-238.217</td>\n",
       "      <td>-67.0894</td>\n",
       "      <td>-772.634</td>\n",
       "      <td>-541.112</td>\n",
       "      <td>-675.244</td>\n",
       "      <td>-1499.63</td>\n",
       "      <td>34.6432</td>\n",
       "      <td>-240.087</td>\n",
       "      <td>-484.332</td>\n",
       "      <td>-729.621</td>\n",
       "      <td>-275.54</td>\n",
       "      <td>-53.5327</td>\n",
       "    </tr>\n",
       "    <tr>\n",
       "      <th>max</th>\n",
       "      <td>468.971</td>\n",
       "      <td>660.948</td>\n",
       "      <td>1873.21</td>\n",
       "      <td>8197.88</td>\n",
       "      <td>3417.74</td>\n",
       "      <td>5208.28</td>\n",
       "      <td>15904.4</td>\n",
       "      <td>1113.7</td>\n",
       "      <td>-14.7727</td>\n",
       "      <td>558.987</td>\n",
       "      <td>969.821</td>\n",
       "      <td>421.79</td>\n",
       "    </tr>\n",
       "    <tr>\n",
       "      <th>mean</th>\n",
       "      <td>-48.5025</td>\n",
       "      <td>288.958</td>\n",
       "      <td>336.216</td>\n",
       "      <td>62.436</td>\n",
       "      <td>147.828</td>\n",
       "      <td>111.339</td>\n",
       "      <td>507.691</td>\n",
       "      <td>1.91774</td>\n",
       "      <td>-143.429</td>\n",
       "      <td>-79.0047</td>\n",
       "      <td>47.0643</td>\n",
       "      <td>77.0525</td>\n",
       "    </tr>\n",
       "    <tr>\n",
       "      <th rowspan=\"4\" valign=\"top\">dwc_const</th>\n",
       "      <th>median</th>\n",
       "      <td>5.03151</td>\n",
       "      <td>93.1716</td>\n",
       "      <td>285.858</td>\n",
       "      <td>155.636</td>\n",
       "      <td>215.005</td>\n",
       "      <td>191.349</td>\n",
       "      <td>109.906</td>\n",
       "      <td>3.40882</td>\n",
       "      <td>-55.5585</td>\n",
       "      <td>-1.47459</td>\n",
       "      <td>113.315</td>\n",
       "      <td>31.0622</td>\n",
       "    </tr>\n",
       "    <tr>\n",
       "      <th>min</th>\n",
       "      <td>-91.3949</td>\n",
       "      <td>-24.5127</td>\n",
       "      <td>-302.379</td>\n",
       "      <td>-171.063</td>\n",
       "      <td>-265.477</td>\n",
       "      <td>-438.638</td>\n",
       "      <td>14.2514</td>\n",
       "      <td>-87.4078</td>\n",
       "      <td>-180.536</td>\n",
       "      <td>-261.142</td>\n",
       "      <td>-107.925</td>\n",
       "      <td>-22.9379</td>\n",
       "    </tr>\n",
       "    <tr>\n",
       "      <th>max</th>\n",
       "      <td>173.916</td>\n",
       "      <td>247.938</td>\n",
       "      <td>479.417</td>\n",
       "      <td>2009</td>\n",
       "      <td>1333.17</td>\n",
       "      <td>2157.08</td>\n",
       "      <td>6823.78</td>\n",
       "      <td>416.259</td>\n",
       "      <td>-7.00743</td>\n",
       "      <td>189.845</td>\n",
       "      <td>407.118</td>\n",
       "      <td>206.211</td>\n",
       "    </tr>\n",
       "    <tr>\n",
       "      <th>mean</th>\n",
       "      <td>-17.8047</td>\n",
       "      <td>103.506</td>\n",
       "      <td>135.058</td>\n",
       "      <td>29.5417</td>\n",
       "      <td>61.8501</td>\n",
       "      <td>44.0946</td>\n",
       "      <td>196.562</td>\n",
       "      <td>1.35248</td>\n",
       "      <td>-55.1981</td>\n",
       "      <td>-29.2796</td>\n",
       "      <td>18.9311</td>\n",
       "      <td>30.9465</td>\n",
       "    </tr>\n",
       "    <tr>\n",
       "      <th rowspan=\"4\" valign=\"top\">emc_const</th>\n",
       "      <th>median</th>\n",
       "      <td>39.0629</td>\n",
       "      <td>101.081</td>\n",
       "      <td>88.9684</td>\n",
       "      <td>23.5649</td>\n",
       "      <td>32.9583</td>\n",
       "      <td>14.4877</td>\n",
       "      <td>6.03583</td>\n",
       "      <td>1.11761</td>\n",
       "      <td>-0.618436</td>\n",
       "      <td>0.893577</td>\n",
       "      <td>49.8086</td>\n",
       "      <td>31.2009</td>\n",
       "    </tr>\n",
       "    <tr>\n",
       "      <th>min</th>\n",
       "      <td>-3.70908</td>\n",
       "      <td>-9.81187</td>\n",
       "      <td>-102.49</td>\n",
       "      <td>-62.3364</td>\n",
       "      <td>-19.7794</td>\n",
       "      <td>-19.3105</td>\n",
       "      <td>1.62953</td>\n",
       "      <td>-7.61821</td>\n",
       "      <td>-35.9762</td>\n",
       "      <td>-6.58799</td>\n",
       "      <td>-38.6478</td>\n",
       "      <td>-2.34669</td>\n",
       "    </tr>\n",
       "    <tr>\n",
       "      <th>max</th>\n",
       "      <td>341.315</td>\n",
       "      <td>2321.04</td>\n",
       "      <td>1242.91</td>\n",
       "      <td>5044.18</td>\n",
       "      <td>92.6453</td>\n",
       "      <td>158.801</td>\n",
       "      <td>345.22</td>\n",
       "      <td>15.9545</td>\n",
       "      <td>0.520823</td>\n",
       "      <td>48.2893</td>\n",
       "      <td>137.682</td>\n",
       "      <td>389.456</td>\n",
       "    </tr>\n",
       "    <tr>\n",
       "      <th>mean</th>\n",
       "      <td>-1.46235</td>\n",
       "      <td>36.4883</td>\n",
       "      <td>22.602</td>\n",
       "      <td>4.31085</td>\n",
       "      <td>5.22092</td>\n",
       "      <td>2.48575</td>\n",
       "      <td>8.89182</td>\n",
       "      <td>1.01921</td>\n",
       "      <td>-0.447703</td>\n",
       "      <td>-0.745712</td>\n",
       "      <td>4.48914</td>\n",
       "      <td>12.2707</td>\n",
       "    </tr>\n",
       "  </tbody>\n",
       "</table>\n",
       "</div>"
      ],
      "text/plain": [
       "                         7         8            9            10       11  \\\n",
       "surface   median    61.8332   57.3708      318.152      9.12839  4.70579   \n",
       "          min      -1.58069   -7.3971     -18.1146     -23.8787 -18.2219   \n",
       "          max       45586.7    635189  6.74423e+06  1.21484e+07  4234.49   \n",
       "          mean   -0.0354917   4.86426      4.08439      1.45915  2.57306   \n",
       "seepage   median    3.54406   21.4665      29.0852      4.12541  2.80973   \n",
       "          min      0.194401  0.721546   -0.0598309   -0.0513656 -6.05961   \n",
       "          max       98.6216   970.923      7136.16      38400.2  78.4866   \n",
       "          mean     0.541971    5.7848      2.53332      1.30983  2.61828   \n",
       "DWC       median    11.8215   261.788      640.365      410.542   539.58   \n",
       "          min      -238.217  -67.0894     -772.634     -541.112 -675.244   \n",
       "          max       468.971   660.948      1873.21      8197.88  3417.74   \n",
       "          mean     -48.5025   288.958      336.216       62.436  147.828   \n",
       "dwc_const median    5.03151   93.1716      285.858      155.636  215.005   \n",
       "          min      -91.3949  -24.5127     -302.379     -171.063 -265.477   \n",
       "          max       173.916   247.938      479.417         2009  1333.17   \n",
       "          mean     -17.8047   103.506      135.058      29.5417  61.8501   \n",
       "emc_const median    39.0629   101.081      88.9684      23.5649  32.9583   \n",
       "          min      -3.70908  -9.81187      -102.49     -62.3364 -19.7794   \n",
       "          max       341.315   2321.04      1242.91      5044.18  92.6453   \n",
       "          mean     -1.46235   36.4883       22.602      4.31085  5.22092   \n",
       "\n",
       "                        12       1         2         3         4         5   \\\n",
       "surface   median    2.7374  2.73682   1.07753 -0.390927  0.877783   21.1356   \n",
       "          min     -1.24346  1.09246   -3.3863  -9.72023  -8.33126  -2.02975   \n",
       "          max      7.40847   19.977   4.28071   0.86025    67.237    118.93   \n",
       "          mean     1.68192  4.31499   1.01321 -0.317444 -0.410541   1.73949   \n",
       "seepage   median   7.87321  4.95549   1.11148 -0.383699  0.725852   9.14394   \n",
       "          min    -0.142813  1.04127 -0.360255  -3.78789  0.124273  0.208692   \n",
       "          max      195.247  383.915   6.10918  0.819615   3.68493    24.334   \n",
       "          mean     2.30851  5.56358   1.01246 -0.929288  0.540311   1.23592   \n",
       "DWC       median   524.132  311.466   7.17943   -147.35  -5.71626   290.078   \n",
       "          min     -1499.63  34.6432  -240.087  -484.332  -729.621   -275.54   \n",
       "          max      5208.28  15904.4    1113.7  -14.7727   558.987   969.821   \n",
       "          mean     111.339  507.691   1.91774  -143.429  -79.0047   47.0643   \n",
       "dwc_const median   191.349  109.906   3.40882  -55.5585  -1.47459   113.315   \n",
       "          min     -438.638  14.2514  -87.4078  -180.536  -261.142  -107.925   \n",
       "          max      2157.08  6823.78   416.259  -7.00743   189.845   407.118   \n",
       "          mean     44.0946  196.562   1.35248  -55.1981  -29.2796   18.9311   \n",
       "emc_const median   14.4877  6.03583   1.11761 -0.618436  0.893577   49.8086   \n",
       "          min     -19.3105  1.62953  -7.61821  -35.9762  -6.58799  -38.6478   \n",
       "          max      158.801   345.22   15.9545  0.520823   48.2893   137.682   \n",
       "          mean     2.48575  8.89182   1.01921 -0.447703 -0.745712   4.48914   \n",
       "\n",
       "                        6   \n",
       "surface   median   8.36317  \n",
       "          min     0.747725  \n",
       "          max       680.06  \n",
       "          mean     2.39412  \n",
       "seepage   median   4.87934  \n",
       "          min     0.155011  \n",
       "          max      146.778  \n",
       "          mean     2.78637  \n",
       "DWC       median   78.3427  \n",
       "          min     -53.5327  \n",
       "          max       421.79  \n",
       "          mean     77.0525  \n",
       "dwc_const median   31.0622  \n",
       "          min     -22.9379  \n",
       "          max      206.211  \n",
       "          mean     30.9465  \n",
       "emc_const median   31.2009  \n",
       "          min     -2.34669  \n",
       "          max      389.456  \n",
       "          mean     12.2707  "
      ]
     },
     "execution_count": 71,
     "metadata": {},
     "output_type": "execute_result"
    }
   ],
   "source": [
    "drs_stats"
   ]
  },
  {
   "cell_type": "code",
   "execution_count": null,
   "id": "annual-reproduction",
   "metadata": {},
   "outputs": [],
   "source": []
  }
 ],
 "metadata": {
  "kernelspec": {
   "display_name": "python(oed)",
   "language": "python",
   "name": "oed"
  },
  "language_info": {
   "codemirror_mode": {
    "name": "ipython",
    "version": 3
   },
   "file_extension": ".py",
   "mimetype": "text/x-python",
   "name": "python",
   "nbconvert_exporter": "python",
   "pygments_lexer": "ipython3",
   "version": "3.7.1"
  }
 },
 "nbformat": 4,
 "nbformat_minor": 5
}
