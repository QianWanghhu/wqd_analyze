{
 "cells": [
  {
   "cell_type": "markdown",
   "metadata": {},
   "source": [
    "\"\"\"\n",
    "This script is used to caclulate the Event Mean Concentration (EMC).\n",
    "The inputs are .csv files containing concentration and flow after linear interpolation.\n",
    "\"\"\""
   ]
  },
  {
   "cell_type": "code",
   "execution_count": 1,
   "metadata": {},
   "outputs": [],
   "source": [
    "import pandas as pd\n",
    "import numpy as np\n",
    "from utils.concentration import rainfall_events, emc_cal, conc_interpolate, event_emc\n",
    "import datetime\n",
    "\n",
    "# read the discrete storm events\n",
    "# Read daily loads and flow\n",
    "# Read hourly loads and flow\n",
    "from common_settings import obspath, outpath, events_name, \\\n",
    "    obs_events, day_load_flow, hour_load_flow, conct_name, modpath, mod_load_flow"
   ]
  },
  {
   "cell_type": "code",
   "execution_count": 2,
   "metadata": {},
   "outputs": [],
   "source": [
    "from utils.concentration import cumulative_lq, excel_save\n",
    "from utils.signatures import update_cumul_df, load_flow_loc"
   ]
  },
  {
   "cell_type": "markdown",
   "metadata": {},
   "source": [
    "## Produce the event mean concentration of obs and mod"
   ]
  },
  {
   "cell_type": "code",
   "execution_count": 3,
   "metadata": {},
   "outputs": [],
   "source": [
    "# Calculate EMC for low-frequency data\n",
    "cols = [col for col in day_load_flow.columns if ('Load' in col) or ('Flow(ML)' in col)]\n",
    "index_range = [1, obs_events.shape[0]+1]\n",
    "# index_range2 = [38, obs_events.shape[0]+1]"
   ]
  },
  {
   "cell_type": "code",
   "execution_count": 4,
   "metadata": {},
   "outputs": [],
   "source": [
    "obs_events = event_emc(obs_events, day_load_flow, index_range, cols[0], cols[1], \n",
    "    time_scale='d', multiplier=1e3)"
   ]
  },
  {
   "cell_type": "code",
   "execution_count": 5,
   "metadata": {},
   "outputs": [],
   "source": [
    "# Calculate EMC for high-frequency data\n",
    "# cols = [col for col in hour_load_flow.columns if ('Load' in col) or ('ML' in col)]\n",
    "# index_range2 = [38, obs_events.shape[0]+1]\n",
    "# loads_col = cols[1]; flow_col = cols[0]\n",
    "# obs_events = event_emc(obs_events, hour_load_flow, index_range2, loads_col, flow_col, \n",
    "#     time_scale='h', multiplier=1)"
   ]
  },
  {
   "cell_type": "code",
   "execution_count": 6,
   "metadata": {},
   "outputs": [],
   "source": [
    "obs_events.to_csv(outpath + events_name, index='ID')"
   ]
  },
  {
   "cell_type": "markdown",
   "metadata": {},
   "source": [
    "### Calculate mod load"
   ]
  },
  {
   "cell_type": "code",
   "execution_count": 8,
   "metadata": {},
   "outputs": [],
   "source": [
    "# read the discrete storm events\n",
    "filename = 'DIN_mod_storm_event_common2.csv'\n",
    "events = rainfall_events(f'{outpath}{filename}')\n",
    "# Calculate EMC for modeling data\n",
    "cols = [col for col in mod_load_flow.columns if ('Load' in col) or ('ML' in col)]\n",
    "index_range = [1, events.shape[0]+1]\n",
    "loads_col = cols[0]; flow_col = cols[1]\n",
    "\n",
    "events = event_emc(events, mod_load_flow, index_range, loads_col, flow_col, \n",
    "    time_scale='d', multiplier=1)\n",
    "# events.dropna(axis=0, inplace=True)\n",
    "events.to_csv(f'{outpath}{filename}', index='ID')"
   ]
  },
  {
   "cell_type": "markdown",
   "metadata": {},
   "source": [
    "## Produce the Normalized cumulative ratio of loads and flow "
   ]
  },
  {
   "cell_type": "markdown",
   "metadata": {},
   "source": [
    "### calculate the daily data for double mass plot (Q-L)"
   ]
  },
  {
   "cell_type": "code",
   "execution_count": 34,
   "metadata": {},
   "outputs": [],
   "source": [
    "time_ranges = [[f'{year}/7/1', f'{year+1}/6/30'] for year in range(2009, 2020)]\n",
    "# time_ranges = obs_events.loc[:, ['start', 'end']].values\n",
    "double_mass_ratio = {}\n",
    "annual_total = pd.DataFrame(columns=day_load_flow.columns)"
   ]
  },
  {
   "cell_type": "code",
   "execution_count": 35,
   "metadata": {},
   "outputs": [],
   "source": [
    "for ii in range(0, len(time_ranges)-2):\n",
    "# for ii in range(index_range1[0]-1, index_range1[1]-1):\n",
    "    df_temp = load_flow_loc(time_ranges[ii], day_load_flow, timestep='d')\n",
    "    df_temp = update_cumul_df(df_temp, df_temp.values[:, 0], df_temp.values[:, -2])\n",
    "    double_mass_ratio[f'obs_year_{ii}'] = df_temp\n",
    "    annual_total.loc[time_ranges[ii][0][0:4]] = df_temp.sum(axis=0)\n",
    "annual_total.loc['ave'] = annual_total.mean(axis=0)"
   ]
  },
  {
   "cell_type": "code",
   "execution_count": 37,
   "metadata": {},
   "outputs": [],
   "source": [
    "# save outputs into one excel\n",
    "annual_total.to_csv(outpath+'obs_annual_sum.csv')\n",
    "fn = outpath +'obs_year_cumulative_ratio_day.xlsx'\n",
    "excel_save(double_mass_ratio, fn, True)"
   ]
  },
  {
   "cell_type": "markdown",
   "metadata": {},
   "source": [
    "### calculate the hourly data for double mass plot (Q-L)"
   ]
  },
  {
   "cell_type": "code",
   "execution_count": 15,
   "metadata": {},
   "outputs": [],
   "source": [
    "double_mass_ratio = {}\n",
    "for ii in range(index_range2[0]-1, index_range2[1]-1):\n",
    "# for ii in range(9, len(time_ranges)):\n",
    "    df_temp = load_flow_loc(time_ranges[ii], hour_load_flow, timestep='h')\n",
    "    df_temp = update_cumul_df(df_temp, df_temp.values[:, -1], df_temp.values[:, 0])\n",
    "    double_mass_ratio[f'obs_storm_{ii}'] = df_temp"
   ]
  },
  {
   "cell_type": "code",
   "execution_count": 16,
   "metadata": {},
   "outputs": [],
   "source": [
    "# save outputs into one excel\n",
    "fn = outpath +'obs_storm_cumulative_ratio_hour.xlsx'\n",
    "excel_save(double_mass_ratio, fn)"
   ]
  },
  {
   "cell_type": "markdown",
   "metadata": {},
   "source": [
    "### calculate the modeling data for double mass plot (Q-L)"
   ]
  },
  {
   "cell_type": "code",
   "execution_count": 39,
   "metadata": {},
   "outputs": [],
   "source": [
    "modpath = '../data/mod/'\n",
    "annual_total = pd.DataFrame(columns=mod_load_flow.columns)\n",
    "# filename = 'storm_event.csv'\n",
    "# mod_events = rainfall_events(f'{modpath}{filename}')"
   ]
  },
  {
   "cell_type": "code",
   "execution_count": 40,
   "metadata": {},
   "outputs": [],
   "source": [
    "# Calculate EMC for modeling data\n",
    "cols = [col for col in mod_load_flow.columns if ('Load' in col) or ('ML' in col)]\n",
    "# index_range = [1, mod_events.shape[0]]\n",
    "loads_col = cols[0]; flow_col = cols[1]"
   ]
  },
  {
   "cell_type": "code",
   "execution_count": 41,
   "metadata": {},
   "outputs": [],
   "source": [
    "double_mass_ratio = {}\n",
    "time_ranges = [[f'{year}-07-01', f'{year+1}-06-30'] for year in range(2009, 2018)]\n",
    "# time_ranges = mod_events.loc[:, ['start', 'end']].values\n",
    "# for ii in range(index_range[0], index_range[1]):\n",
    "for ii in range(len(time_ranges)):\n",
    "    df_temp = load_flow_loc(time_ranges[ii], mod_load_flow, timestep='d')\n",
    "    df_temp = update_cumul_df(df_temp, df_temp.values[:, 0], df_temp.values[:, -1])\n",
    "    double_mass_ratio[f'mod_storm_{ii}'] = df_temp\n",
    "    annual_total.loc[time_ranges[ii][0][0:4]] = df_temp.sum(axis=0)\n",
    "annual_total.loc['ave'] = annual_total.mean(axis=0)"
   ]
  },
  {
   "cell_type": "code",
   "execution_count": 42,
   "metadata": {},
   "outputs": [],
   "source": [
    "# save results\n",
    "annual_total.to_csv(outpath+'mod_annual_sum.csv')\n",
    "\n",
    "fn = outpath +'mod_year_cumulative_ratio_day.xlsx'\n",
    "excel_save(double_mass_ratio, fn)"
   ]
  },
  {
   "cell_type": "markdown",
   "metadata": {},
   "source": [
    "## Calculate event load coefficients"
   ]
  },
  {
   "cell_type": "markdown",
   "metadata": {},
   "source": [
    "### Event loads for obs"
   ]
  },
  {
   "cell_type": "code",
   "execution_count": 7,
   "metadata": {},
   "outputs": [],
   "source": [
    "obs_event_fn = 'obs_storm_event_common2'\n",
    "obs_events = pd.read_csv(f'{outpath}{obs_event_fn}.csv', index_col = 'ID') \n",
    "time_ranges = [[f'{year}/7/1', f'{year+1}/6/30'] for year in np.arange(2009, 2018)]\n",
    "year_loads = {}"
   ]
  },
  {
   "cell_type": "code",
   "execution_count": 8,
   "metadata": {},
   "outputs": [],
   "source": [
    "# for each year, calculate the yearly loads \n",
    "# obs daily data\n",
    "for tt in time_ranges[0:]:\n",
    "    df = load_flow_loc(tt, day_load_flow, timestep='d')\n",
    "    year_loads[tt[0][0:4]] = np.round(df.values[:, 0].sum(), 2)  \n",
    "    \n",
    "# obs hourly data\n",
    "# for tt in time_ranges[-2:]:\n",
    "#     df = load_flow_loc(tt, hour_load_flow, timestep='h')\n",
    "#     year_loads[tt[0][0:4]] = np.round(df.values[:, 0].sum(), 2)  "
   ]
  },
  {
   "cell_type": "code",
   "execution_count": 9,
   "metadata": {},
   "outputs": [],
   "source": [
    "# The event load coefficients\n",
    "for ii in range(1, index_range[1]):\n",
    "    df_event = load_flow_loc(obs_events.loc[ii, 'start':'end'].values, day_load_flow, timestep='d')\n",
    "    ymd= pd.to_datetime(obs_events.loc[ii, 'start'])\n",
    "    month = ymd.month; year = ymd.year\n",
    "    if month < 7:\n",
    "        obs_events.loc[ii, 'event_load_coefficients'] = df_event.values[:, 0].sum() / year_loads[str(year - 1)]\n",
    "    else:\n",
    "        obs_events.loc[ii, 'event_load_coefficients'] = df_event.values[:, 0].sum() / year_loads[str(year)]\n",
    "        \n",
    "# for ii in range(index_range2[0], index_range2[1]):\n",
    "#     df_event = load_flow_loc(obs_events.loc[ii, 'start':'end'].values, hour_load_flow, timestep='h')\n",
    "#     ymd= pd.to_datetime(obs_events.loc[ii, 'start'])\n",
    "#     month = ymd.month; year = ymd.year\n",
    "#     if month < 7:\n",
    "#         obs_events.loc[ii, 'event_load_coefficients'] = df_event.values[:, 0].sum() / year_loads[str(year-1)]\n",
    "#     else:\n",
    "#         obs_events.loc[ii, 'event_load_coefficients'] = df_event.values[:, 0].sum() / year_loads[str(year)]"
   ]
  },
  {
   "cell_type": "code",
   "execution_count": 10,
   "metadata": {},
   "outputs": [],
   "source": [
    "obs_events.to_csv(f'{outpath}{obs_event_fn}.csv')"
   ]
  },
  {
   "cell_type": "markdown",
   "metadata": {},
   "source": [
    "### Event loads for mod"
   ]
  },
  {
   "cell_type": "code",
   "execution_count": 13,
   "metadata": {},
   "outputs": [],
   "source": [
    "mod_event_fn = 'DIN_mod_storm_event_common2'\n",
    "mod_events = pd.read_csv(f'{outpath}{mod_event_fn}.csv', index_col = 'ID') \n",
    "time_ranges = [[f'{year}/7/1', f'{year+1}/6/30'] for year in range(2009, 2018)]"
   ]
  },
  {
   "cell_type": "code",
   "execution_count": 14,
   "metadata": {},
   "outputs": [],
   "source": [
    "# for each year, calculate the yearly loads \n",
    "mod_loads = {}\n",
    "# mod daily data\n",
    "for tt in time_ranges:\n",
    "    df = load_flow_loc(tt, mod_load_flow, timestep='d')\n",
    "    mod_loads[tt[0][0:4]] = np.round(df.values[:, 0].sum(), 2)  "
   ]
  },
  {
   "cell_type": "code",
   "execution_count": 15,
   "metadata": {},
   "outputs": [],
   "source": [
    "# The event load coefficients\n",
    "for ii in mod_events.index:\n",
    "    df_event = load_flow_loc(mod_events.loc[ii, 'start':'end'].values, mod_load_flow, timestep='d')\n",
    "    ymd= pd.to_datetime(mod_events.loc[ii, 'start'])\n",
    "    month = ymd.month; year = ymd.year\n",
    "    if month < 7:\n",
    "        mod_events.loc[ii, 'event_load_coefficients'] = df_event.values[:, 0].sum() / mod_loads[str(year - 1)]\n",
    "    else:\n",
    "        mod_events.loc[ii, 'event_load_coefficients'] = df_event.values[:, 0].sum() / mod_loads[str(year)]"
   ]
  },
  {
   "cell_type": "code",
   "execution_count": 16,
   "metadata": {},
   "outputs": [],
   "source": [
    "mod_events.to_csv(f'{outpath}{mod_event_fn}.csv')"
   ]
  },
  {
   "cell_type": "markdown",
   "metadata": {},
   "source": [
    "## Calculate the peaktime difference between flow and loads"
   ]
  },
  {
   "cell_type": "markdown",
   "metadata": {},
   "source": [
    "### Mod results"
   ]
  },
  {
   "cell_type": "code",
   "execution_count": 16,
   "metadata": {},
   "outputs": [],
   "source": [
    "mod_event_fn = 'DIN_mod_storm_event_common2'\n",
    "mod_events = pd.read_csv(f'{outpath}{mod_event_fn}.csv', index_col = 'ID') "
   ]
  },
  {
   "cell_type": "code",
   "execution_count": 17,
   "metadata": {},
   "outputs": [],
   "source": [
    "# find the peak time of loads\n",
    "clabel, llabel, qlabel = ['Downstream Flow Concentration (mg.L^-1)', 'Loads (kg)', 'Flow_cumecs (ML.day^-1)']\n",
    "for ii in mod_events.index:\n",
    "    df_event = load_flow_loc(mod_events.loc[ii, 'start':'end'].values, mod_load_flow, timestep='d')\n",
    "    peaktime_load = df_event[df_event.loc[:, llabel]==df_event.loc[:, llabel].max()].index\n",
    "    peaktime_conc = df_event[df_event.loc[:, clabel]==df_event.loc[:, clabel].max()].index[0]\n",
    "    \n",
    "    mod_events.loc[ii, 'peaktime_load'] = peaktime_load\n",
    "    mod_events.loc[ii, 'peaktime_conc'] = peaktime_conc\n",
    "    mod_events.loc[ii, 'peakflow'] = df_event.loc[:, qlabel].max()\n",
    "    mod_events.loc[ii, 'peaktime'] = df_event[df_event.loc[:, qlabel]==df_event.loc[:, qlabel].max()].index\n",
    "    mod_events.loc[ii, 'peak_flow_time'] = df_event[df_event.loc[:, qlabel]==df_event.loc[:, qlabel].max()].index[0]\n",
    "    mod_events.loc[ii, 'peak_conc_time'] = df_event[df_event.loc[:, clabel]==df_event.loc[:, clabel].max()].index[0]\n",
    "    mod_events.loc[ii, 'peak_load_time'] = df_event[df_event.loc[:, llabel]==df_event.loc[:, llabel].max()].index[0]\n",
    "    \n",
    "# mod_events.loc[:, 'delta_time'] = mod_events.peaktime_load - mod_events.peaktime"
   ]
  },
  {
   "cell_type": "code",
   "execution_count": 18,
   "metadata": {},
   "outputs": [],
   "source": [
    "mod_events.loc[:, 'delta_load_flow_time'] = pd.to_datetime(mod_events.peak_load_time) - pd.to_datetime(mod_events.peak_flow_time)\n",
    "mod_events.loc[:, 'delta_conc_flow_time'] = pd.to_datetime(mod_events.peak_conc_time) - pd.to_datetime(mod_events.peak_flow_time)"
   ]
  },
  {
   "cell_type": "code",
   "execution_count": 19,
   "metadata": {},
   "outputs": [],
   "source": [
    "mod_events.to_csv(f'{outpath}{mod_event_fn}.csv')"
   ]
  },
  {
   "cell_type": "markdown",
   "metadata": {},
   "source": [
    "### Obs results"
   ]
  },
  {
   "cell_type": "code",
   "execution_count": 20,
   "metadata": {},
   "outputs": [],
   "source": [
    "obs_event_fn = 'obs_storm_event_common2'\n",
    "obs_events = pd.read_csv(f'{outpath}{obs_event_fn}.csv', index_col = 'ID') "
   ]
  },
  {
   "cell_type": "code",
   "execution_count": 21,
   "metadata": {},
   "outputs": [],
   "source": [
    "# find the peak time of loads\n",
    "for ii in obs_events.index:\n",
    "#     if ii < 38:\n",
    "    df_event = load_flow_loc(obs_events.loc[ii, 'start':'end'].values, day_load_flow, timestep='d')\n",
    "    clabel, llabel, qlabel = ['Concentration (mg/L)', 'Linear_Average_Load(t)', 'Flow(ML)']\n",
    "#     else:\n",
    "#         clabel, llabel, qlabel = ['126001A-NO3(mg/l)', 'Loads (kg)', 'Flow (ML)']\n",
    "#         df_event = load_flow_loc(obs_events.loc[ii, 'start':'end'].values, hour_load_flow, timestep='h')\n",
    "#     peaktime_load = df_event[df_event.loc[:, llabel]==df_event.loc[:, llabel].max()].index[0]\n",
    "#     peaktime_conc = df_event[df_event.loc[:, clabel]==df_event.loc[:, clabel].max()].index[0]\n",
    "\n",
    "    obs_events.loc[ii, 'peaktime_load'] = peaktime_load\n",
    "    obs_events.loc[ii, 'peaktime_conc'] = peaktime_conc\n",
    "    obs_events.loc[ii, 'peakflow'] = df_event.loc[:, qlabel].max()\n",
    "    obs_events.loc[ii, 'peak_flow_time'] = df_event[df_event.loc[:, qlabel]==df_event.loc[:, qlabel].max()].index[0]\n",
    "    obs_events.loc[ii, 'peak_conc_time'] = df_event[df_event.loc[:, clabel]==df_event.loc[:, clabel].max()].index[0]\n",
    "    obs_events.loc[ii, 'peak_load_time'] = df_event[df_event.loc[:, llabel]==df_event.loc[:, llabel].max()].index[0]\n",
    "    \n",
    "obs_events.loc[:, 'delta_load_flow_time'] = pd.to_datetime(obs_events.peak_load_time) - pd.to_datetime(obs_events.peak_flow_time)\n",
    "obs_events.loc[:, 'delta_conc_flow_time'] = pd.to_datetime(obs_events.peak_conc_time) - pd.to_datetime(obs_events.peak_flow_time)"
   ]
  },
  {
   "cell_type": "code",
   "execution_count": 22,
   "metadata": {},
   "outputs": [],
   "source": [
    "obs_events.to_csv(f'{outpath}{obs_event_fn}.csv')"
   ]
  },
  {
   "cell_type": "markdown",
   "metadata": {},
   "source": [
    "## Variability of load-discharge ratio (seasonal average concentration)"
   ]
  },
  {
   "cell_type": "markdown",
   "metadata": {},
   "source": [
    "### Obs results"
   ]
  },
  {
   "cell_type": "code",
   "execution_count": 22,
   "metadata": {},
   "outputs": [],
   "source": [
    "time_ranges = [[f'{year}/7/1', f'{year}/10/1', f'{year+1}/1/1', f'{year+1}/4/1', f'{year+1}/7/1'] for year in range(2009, 2018)]\n",
    "df_ratio = pd.DataFrame(index=[str(year) for year in range(2009, 2018)], columns = [1, 2, 3, 4])"
   ]
  },
  {
   "cell_type": "code",
   "execution_count": 23,
   "metadata": {},
   "outputs": [],
   "source": [
    "for tt in time_ranges:\n",
    "    for ii in range(len(tt) -1):\n",
    "        start = pd.to_datetime(tt[ii])\n",
    "        end = pd.to_datetime(tt[ii + 1]) - datetime.timedelta(days=1)   \n",
    "        df = load_flow_loc([start, end], day_load_flow, timestep ='d')\n",
    "        df_ratio.loc[tt[0][0:4], ii+1] = df.sum(axis=0)[0] / df.sum(axis=0)[2] * 1000"
   ]
  },
  {
   "cell_type": "code",
   "execution_count": 24,
   "metadata": {},
   "outputs": [],
   "source": [
    "df_ratio.to_csv(f'{outpath}obs_seasonal_concentration.csv')"
   ]
  },
  {
   "cell_type": "markdown",
   "metadata": {},
   "source": [
    "### Mod results"
   ]
  },
  {
   "cell_type": "code",
   "execution_count": 25,
   "metadata": {},
   "outputs": [],
   "source": [
    "time_ranges = [[f'{year}/7/1', f'{year}/10/1', f'{year+1}/1/1', f'{year+1}/4/1', f'{year+1}/7/1'] for year in range(2009, 2018)]\n",
    "df_ratio = pd.DataFrame(index=[str(year) for year in range(2009, 2018)], columns = [1, 2, 3, 4])"
   ]
  },
  {
   "cell_type": "code",
   "execution_count": 26,
   "metadata": {},
   "outputs": [],
   "source": [
    "for tt in time_ranges:\n",
    "    for ii in range(len(tt) -1):\n",
    "        start = pd.to_datetime(tt[ii])\n",
    "        end = pd.to_datetime(tt[ii + 1]) - datetime.timedelta(days=1)   \n",
    "        df = load_flow_loc([start, end], mod_load_flow, timestep ='d')\n",
    "        df_ratio.loc[tt[0][0:4], ii+1] = df.sum(axis=0)[0] / df.sum(axis=0)[2]"
   ]
  },
  {
   "cell_type": "code",
   "execution_count": 27,
   "metadata": {},
   "outputs": [],
   "source": [
    "df_ratio.to_csv(f'{outpath}mod_seasonal_concentration.csv')"
   ]
  },
  {
   "cell_type": "markdown",
   "metadata": {},
   "source": [
    "## Monthly loads"
   ]
  },
  {
   "cell_type": "code",
   "execution_count": 29,
   "metadata": {},
   "outputs": [],
   "source": [
    "df_month = pd.DataFrame(columns = ['obs', 'mod'])"
   ]
  },
  {
   "cell_type": "code",
   "execution_count": 30,
   "metadata": {},
   "outputs": [],
   "source": [
    "# calculate the monthly loads and flow\n",
    "for y in range(2009, 2019):\n",
    "    for m in range(1, 13):\n",
    "        start = pd.to_datetime(f'{y}/{m}/1')\n",
    "        if m == 12:\n",
    "            end = pd.to_datetime(f'{y+1}/1/1') - datetime.timedelta(days=1) \n",
    "        else:\n",
    "            end = pd.to_datetime(f'{y}/{m+1}/1') - datetime.timedelta(days=1)\n",
    "            \n",
    "        df_month.loc[f'{y}/{m}', 'obs'] = 1000 * load_flow_loc([start, end], day_load_flow, timestep ='d').sum(axis=0)[0]\n",
    "        df_month.loc[f'{y}/{m}', 'mod'] = load_flow_loc([start, end], mod_load_flow, timestep ='d').sum(axis=0)[0]    \n",
    "df_month = df_month[(df_month.obs != 0) & (df_month.loc[:, 'mod'] != 0)]\n",
    "df_month.index.name = 'Month'"
   ]
  },
  {
   "cell_type": "code",
   "execution_count": 31,
   "metadata": {},
   "outputs": [],
   "source": [
    "df_month.to_csv(f'{outpath}mod_obs_month.csv')"
   ]
  },
  {
   "cell_type": "markdown",
   "metadata": {},
   "source": [
    "## Calculate the coefficients of variation for concentrations (CVC) and discharge (CVQ), their ratio (CVC:CVQ)"
   ]
  },
  {
   "cell_type": "code",
   "execution_count": 32,
   "metadata": {},
   "outputs": [],
   "source": [
    "# define timeperiod\n",
    "time_ranges = pd.to_datetime(['2009/7/1', '2018/6/30'])\n",
    "df_cv = pd.DataFrame(columns=['obs', 'mod'], index=['cvc', 'cvq', 'cvl'])\n",
    "start, end = time_ranges"
   ]
  },
  {
   "cell_type": "code",
   "execution_count": 33,
   "metadata": {},
   "outputs": [],
   "source": [
    "# read obs time series of flow, loads and concentration\n",
    "df_obs = load_flow_loc([start, end], day_load_flow, timestep ='d')\n",
    "cv_all = (df_obs.std(axis=0) / df_obs.mean(axis=0))\n",
    "cols = df_obs.columns\n",
    "df_cv.loc[:, 'obs'] = [cv_all[cols[3]], cv_all[cols[2]], cv_all[cols[0]]]"
   ]
  },
  {
   "cell_type": "code",
   "execution_count": 34,
   "metadata": {},
   "outputs": [],
   "source": [
    "# read mod time series of flow, loads and concentration\n",
    "df_mod = load_flow_loc([start, end], mod_load_flow, timestep ='d')\n",
    "cv_all = (df_mod.std(axis=0) / df_mod.mean(axis=0))\n",
    "cols = df_mod.columns\n",
    "df_cv.loc[:, 'mod'] = [cv_all[cols[1]], cv_all[cols[2]], cv_all[cols[0]]]\n",
    "\n",
    "df_cv.loc['cq', :] = df_cv.loc['cvc', :] / df_cv.loc['cvq', :]\n",
    "df_cv.loc['lq', :] = df_cv.loc['cvl', :] / df_cv.loc['cvq', :]"
   ]
  },
  {
   "cell_type": "code",
   "execution_count": 35,
   "metadata": {},
   "outputs": [],
   "source": [
    "df_cv.to_csv(f'{outpath}cv_cql.csv')"
   ]
  },
  {
   "cell_type": "markdown",
   "metadata": {},
   "source": [
    "## Linear regression of C-Q"
   ]
  },
  {
   "cell_type": "code",
   "execution_count": 3,
   "metadata": {},
   "outputs": [],
   "source": [
    "# import necessary packages\n",
    "from sklearn.metrics import r2_score\n",
    "from utils.signatures import residual, nonlinear_fit\n",
    "from utils.plotting import regression_plot\n",
    "import lmfit"
   ]
  },
  {
   "cell_type": "code",
   "execution_count": 167,
   "metadata": {},
   "outputs": [],
   "source": [
    "# define x and y\n",
    "time_range = [['/7/1', '/10/1'], ['/10/1', '/1/1'], ['/1/1', '/4/1'], ['/4/1', '/7/1']]\n",
    "cols = mod_load_flow.columns\n",
    "# day_load_flow.loc[:, cols[0]] = day_load_flow.loc[:, cols[0]]*1000"
   ]
  },
  {
   "cell_type": "code",
   "execution_count": 171,
   "metadata": {},
   "outputs": [],
   "source": [
    "x_dict, y_dict = {}, {}\n",
    "k = 1\n",
    "for tt in time_range:\n",
    "    x, y = np.array([]), np.array([])\n",
    "    for year in range(2009, 2019):\n",
    "        start = pd.to_datetime(f'{year}{tt[0]}')\n",
    "        if tt[1] == '/1/1':\n",
    "            end = pd.to_datetime(f'{year+1}{tt[1]}') - datetime.timedelta(days=1)\n",
    "        else:\n",
    "            end = pd.to_datetime(f'{year}{tt[1]}') - datetime.timedelta(days=1)\n",
    "        df_temp = load_flow_loc([start, end], mod_load_flow, timestep ='d')\n",
    "        x = np.append(x, df_temp.values[:, 2])\n",
    "        y = np.append(y, df_temp.values[:, 0])\n",
    "    x_dict[f'{k}_x'] = x\n",
    "    x_dict[f'{k}_y'] = y\n",
    "    k += 1"
   ]
  },
  {
   "cell_type": "code",
   "execution_count": 179,
   "metadata": {
    "collapsed": true,
    "jupyter": {
     "outputs_hidden": true
    }
   },
   "outputs": [
    {
     "name": "stdout",
     "output_type": "stream",
     "text": [
      "[[Variables]]\n",
      "    a:  0.04437146 +/- 0.00512987 (11.56%) (init = 0.04437146)\n",
      "    b:  1.28675687 +/- 0.03639772 (2.83%) (init = 1.286757)\n",
      "    c:  0.00000000 +/- 3.2932e-11 (inf%) (init = 0)\n",
      "[[Correlations]] (unreported correlations are < 0.100)\n",
      "    C(a, b) = -0.915\n",
      "    C(a, c) = -0.743\n",
      "    C(b, c) =  0.672\n"
     ]
    },
    {
     "name": "stderr",
     "output_type": "stream",
     "text": [
      "C:\\Users\\qianw\\anaconda3\\envs\\oed\\lib\\site-packages\\lmfit\\confidence.py:319: UserWarning: Bound reached with prob(c=0) = 0.0 < max(sigmas)\n",
      "  warn(errmsg)\n"
     ]
    },
    {
     "name": "stdout",
     "output_type": "stream",
     "text": [
      "      95.45%    68.27%    _BEST_    68.27%    95.45%\n",
      " a:  -0.00226  -0.00108   0.04437  +0.00188  +0.00385\n",
      " b:  -0.00930  -0.00383   1.28676  +0.01333  +0.02660\n",
      " c:      -inf      -inf   0.00000  +0.00108  +0.00382\n",
      "[[Variables]]\n",
      "    a:  0.28381429 +/- 0.02335964 (8.23%) (init = 0.2838143)\n",
      "    b:  1.09071015 +/- 0.02428153 (2.23%) (init = 1.09071)\n",
      "    c:  0.00000000 +/- 8.8973e-11 (inf%) (init = 0)\n",
      "[[Correlations]] (unreported correlations are < 0.100)\n",
      "    C(a, b) = -0.752\n",
      "    C(a, c) = -0.719\n",
      "    C(b, c) =  0.531\n"
     ]
    },
    {
     "name": "stderr",
     "output_type": "stream",
     "text": [
      "C:\\Users\\qianw\\anaconda3\\envs\\oed\\lib\\site-packages\\lmfit\\confidence.py:319: UserWarning: Bound reached with prob(c=0) = 0.0 < max(sigmas)\n",
      "  warn(errmsg)\n"
     ]
    },
    {
     "name": "stdout",
     "output_type": "stream",
     "text": [
      "      95.45%    68.27%    _BEST_    68.27%    95.45%\n",
      " a:  -0.02341  -0.01192   0.28381  +0.01237  +0.02522\n",
      " b:  -0.02358  -0.01166   1.09071  +0.01140  +0.02252\n",
      " c:      -inf      -inf   0.00000  +0.00035  +0.00140\n",
      "[[Variables]]\n",
      "    a:  0.12792051 +/- 0.02013378 (15.74%) (init = 0.1279205)\n",
      "    b:  1.02038065 +/- 0.02144549 (2.10%) (init = 1.020381)\n",
      "    c:  6.51441502 +/- 0.44781624 (6.87%) (init = 6.514415)\n",
      "[[Correlations]] (unreported correlations are < 0.100)\n",
      "    C(a, b) = -0.975\n",
      "    C(a, c) = -0.628\n",
      "    C(b, c) =  0.574\n",
      "      95.45%    68.27%    _BEST_    68.27%    95.45%\n",
      " a:  -0.02670  -0.01326   0.12792  +0.01913  +0.04261\n",
      " b:  -0.03759  -0.01707   1.02038  +0.01171  +0.02700\n",
      " c:  -0.89112  -0.36047   6.51442  +0.32779  +0.74388\n",
      "[[Variables]]\n",
      "    a:  0.14737838 +/- 0.03075878 (20.87%) (init = 0.1477953)\n",
      "    b:  1.08661110 +/- 0.04407610 (4.06%) (init = 1.086232)\n",
      "    c:  0.56508922 +/- 0.20882216 (36.95%) (init = 0.5745331)\n",
      "[[Correlations]] (unreported correlations are < 0.100)\n",
      "    C(a, b) = -0.966\n",
      "    C(a, c) = -0.720\n",
      "    C(b, c) =  0.633\n",
      "      95.45%    68.27%    _BEST_    68.27%    95.45%\n",
      " a:  -0.03050  -0.01442   0.14738  +0.05616  +0.11130\n",
      " b:  -0.12169  -0.06862   1.08661  +0.01298  +0.02906\n",
      " c:  -0.53407  -0.32035   0.56509  +0.14826  +0.36551\n"
     ]
    }
   ],
   "source": [
    "# variables are x and y\n",
    "coeff_regress = pd.DataFrame(columns = np.arange(1, 5), index=['R2', 'a', 'b', 'c'])\n",
    "for k in range(1, 5):\n",
    "    x = x_dict[f'{k}_x']\n",
    "    y = x_dict[f'{k}_y']\n",
    "    p = lmfit.Parameters()\n",
    "    p.add_many(('a', 0.1, True, 0, 10), ('b', 2, True, 0, 2), ('c', 1, True, 0, 10))\n",
    "    out1, out2, ci, trace = nonlinear_fit(p, residual, x, y, opti_method='differential_evolution')# lmfit, x=x_input, y=y_output,\n",
    "\n",
    "    # compare coefficient of determination\n",
    "    para_values = {}\n",
    "    for param in ['a', 'b', 'c']: \n",
    "        para_values[param] = np.round(trace['a'][param][0], 4)\n",
    "    y_mod = para_values['a'] * x ** para_values['b']+ para_values['c']\n",
    "    r2 = r2_score(np.log(y), np.log(y_mod))\n",
    "    abs_bias = np.abs(np.average(y_mod - y))\n",
    "    rel_bias = abs_bias / np.average(y)\n",
    "    coeff_regress.loc[:, k] = [r2, para_values['a'], para_values['b'], para_values['c']]"
   ]
  },
  {
   "cell_type": "code",
   "execution_count": 181,
   "metadata": {},
   "outputs": [],
   "source": [
    "coeff_regress.to_csv(outpath+'mod_cq_regress.csv')"
   ]
  },
  {
   "cell_type": "markdown",
   "metadata": {},
   "source": [
    "## Calculate the variation of delivery ratio-surface"
   ]
  },
  {
   "cell_type": "code",
   "execution_count": 3,
   "metadata": {},
   "outputs": [],
   "source": [
    "# read observations, modeled outputs with delivery ratio at 0 and 25 (%)\n",
    "mod_fl_fn = 'DIN_sources.csv'\n",
    "mod_drs0 = pd.read_csv(modpath + mod_fl_fn, index_col='Date')\n",
    "mod_drs0.index = pd.to_datetime(mod_drs0.index, dayfirst=False)"
   ]
  },
  {
   "cell_type": "code",
   "execution_count": 22,
   "metadata": {},
   "outputs": [],
   "source": [
    "arrays = [['mod_total','mod_total', 'mod_total', 'mod_total', 'surface', 'surface', 'surface', 'surface', 'seepage', 'seepage', 'seepage', 'seepage', 'DWC', 'DWC', 'DWC', 'DWC',\n",
    "          'dwc_const', 'dwc_const', 'dwc_const', 'dwc_const', 'emc_const', 'emc_const', 'emc_const', 'emc_const', 'obs', 'obs', 'obs', 'obs'],\n",
    "          ['median', 'min', 'max', 'mean', 'median', 'min', 'max', 'mean', 'median', 'min', 'max', 'mean', 'median', 'min', 'max', 'mean', \n",
    "           'median', 'min', 'max', 'mean', 'median', 'min', 'max', 'mean',  'median', 'min', 'max', 'mean']]\n",
    "tuples = list(zip(*arrays))\n",
    "index = pd.MultiIndex.from_tuples(tuples)"
   ]
  },
  {
   "cell_type": "code",
   "execution_count": 5,
   "metadata": {},
   "outputs": [],
   "source": [
    "df_month = pd.DataFrame(columns=mod_drs0.columns)\n",
    "# calculate the monthly loads and flow\n",
    "for y in range(2009, 2019):\n",
    "    for m in range(1, 13):\n",
    "        start = pd.to_datetime(f'{y}/{m}/1')\n",
    "        if m == 12:\n",
    "#             import pdb; pdb.set_trace()\n",
    "            end = pd.to_datetime(f'{y+1}/1/1') - datetime.timedelta(days=1) \n",
    "        else:\n",
    "            end = pd.to_datetime(f'{y}/{m+1}/1') - datetime.timedelta(days=1)\n",
    "#         \n",
    "        df_month.loc[f'{y}/{m}', :] = load_flow_loc([start, end], mod_drs0, timestep ='d').sum(axis=0)\n",
    "df_month = df_month[(df_month.loc[:, df_month.columns[0]] != 0)]\n",
    "df_month.index.name = 'Month'"
   ]
  },
  {
   "cell_type": "code",
   "execution_count": 8,
   "metadata": {},
   "outputs": [],
   "source": [
    "df_month.to_csv(f'{outpath}month_loads_sources.csv')"
   ]
  },
  {
   "cell_type": "code",
   "execution_count": 9,
   "metadata": {},
   "outputs": [],
   "source": [
    "for col in df_month.columns:\n",
    "    df_month[col+'_ratio'] = (df_month['obs'] - df_month['mod_all'] + df_month[col]) / df_month[col]\n",
    "#     df_month['drs'] = (df_month['obs'] - df_month['mod_all'] + df_month[col]) / df_month[col]"
   ]
  },
  {
   "cell_type": "code",
   "execution_count": 10,
   "metadata": {},
   "outputs": [
    {
     "data": {
      "text/html": [
       "<div>\n",
       "<style scoped>\n",
       "    .dataframe tbody tr th:only-of-type {\n",
       "        vertical-align: middle;\n",
       "    }\n",
       "\n",
       "    .dataframe tbody tr th {\n",
       "        vertical-align: top;\n",
       "    }\n",
       "\n",
       "    .dataframe thead th {\n",
       "        text-align: right;\n",
       "    }\n",
       "</style>\n",
       "<table border=\"1\" class=\"dataframe\">\n",
       "  <thead>\n",
       "    <tr style=\"text-align: right;\">\n",
       "      <th></th>\n",
       "      <th>mod_all</th>\n",
       "      <th>mod_surface</th>\n",
       "      <th>mod_seepage</th>\n",
       "      <th>mod_DWC</th>\n",
       "      <th>mod_dwc</th>\n",
       "      <th>mod_emc</th>\n",
       "      <th>obs</th>\n",
       "      <th>mod_all_ratio</th>\n",
       "      <th>mod_surface_ratio</th>\n",
       "      <th>mod_seepage_ratio</th>\n",
       "      <th>mod_DWC_ratio</th>\n",
       "      <th>mod_dwc_ratio</th>\n",
       "      <th>mod_emc_ratio</th>\n",
       "      <th>obs_ratio</th>\n",
       "    </tr>\n",
       "    <tr>\n",
       "      <th>Month</th>\n",
       "      <th></th>\n",
       "      <th></th>\n",
       "      <th></th>\n",
       "      <th></th>\n",
       "      <th></th>\n",
       "      <th></th>\n",
       "      <th></th>\n",
       "      <th></th>\n",
       "      <th></th>\n",
       "      <th></th>\n",
       "      <th></th>\n",
       "      <th></th>\n",
       "      <th></th>\n",
       "      <th></th>\n",
       "    </tr>\n",
       "  </thead>\n",
       "  <tbody>\n",
       "    <tr>\n",
       "      <th>2009/7</th>\n",
       "      <td>7.71861</td>\n",
       "      <td>0.753993</td>\n",
       "      <td>0.492195</td>\n",
       "      <td>1.64898</td>\n",
       "      <td>4.27022</td>\n",
       "      <td>0.553221</td>\n",
       "      <td>53.5864</td>\n",
       "      <td>6.94249</td>\n",
       "      <td>61.8332</td>\n",
       "      <td>94.1903</td>\n",
       "      <td>28.8158</td>\n",
       "      <td>11.7413</td>\n",
       "      <td>83.9104</td>\n",
       "      <td>1.85596</td>\n",
       "    </tr>\n",
       "    <tr>\n",
       "      <th>2009/8</th>\n",
       "      <td>1.84695</td>\n",
       "      <td>0.0228792</td>\n",
       "      <td>0.233555</td>\n",
       "      <td>0.402991</td>\n",
       "      <td>1.14661</td>\n",
       "      <td>0.0409206</td>\n",
       "      <td>96.7843</td>\n",
       "      <td>52.4022</td>\n",
       "      <td>4150.51</td>\n",
       "      <td>407.487</td>\n",
       "      <td>236.582</td>\n",
       "      <td>83.7986</td>\n",
       "      <td>2321.04</td>\n",
       "      <td>1.98092</td>\n",
       "    </tr>\n",
       "    <tr>\n",
       "      <th>2009/9</th>\n",
       "      <td>1.2901</td>\n",
       "      <td>0.00291682</td>\n",
       "      <td>0.227205</td>\n",
       "      <td>0.180846</td>\n",
       "      <td>0.467057</td>\n",
       "      <td>0.412074</td>\n",
       "      <td>88.9301</td>\n",
       "      <td>68.9328</td>\n",
       "      <td>30047.4</td>\n",
       "      <td>386.732</td>\n",
       "      <td>485.611</td>\n",
       "      <td>188.643</td>\n",
       "      <td>213.68</td>\n",
       "      <td>1.98549</td>\n",
       "    </tr>\n",
       "    <tr>\n",
       "      <th>2009/10</th>\n",
       "      <td>0.469659</td>\n",
       "      <td>0.000538975</td>\n",
       "      <td>0.0561652</td>\n",
       "      <td>0.0576671</td>\n",
       "      <td>0.152037</td>\n",
       "      <td>0.20325</td>\n",
       "      <td>20.9705</td>\n",
       "      <td>44.6505</td>\n",
       "      <td>38037.7</td>\n",
       "      <td>366.01</td>\n",
       "      <td>356.503</td>\n",
       "      <td>135.841</td>\n",
       "      <td>101.865</td>\n",
       "      <td>1.9776</td>\n",
       "    </tr>\n",
       "    <tr>\n",
       "      <th>2009/11</th>\n",
       "      <td>777.769</td>\n",
       "      <td>653.604</td>\n",
       "      <td>84.1427</td>\n",
       "      <td>0.878403</td>\n",
       "      <td>2.22915</td>\n",
       "      <td>36.9147</td>\n",
       "      <td>183.754</td>\n",
       "      <td>0.236258</td>\n",
       "      <td>0.0911699</td>\n",
       "      <td>-6.05961</td>\n",
       "      <td>-675.244</td>\n",
       "      <td>-265.477</td>\n",
       "      <td>-15.0915</td>\n",
       "      <td>-2.23266</td>\n",
       "    </tr>\n",
       "  </tbody>\n",
       "</table>\n",
       "</div>"
      ],
      "text/plain": [
       "          mod_all  mod_surface mod_seepage    mod_DWC   mod_dwc    mod_emc  \\\n",
       "Month                                                                        \n",
       "2009/7    7.71861     0.753993    0.492195    1.64898   4.27022   0.553221   \n",
       "2009/8    1.84695    0.0228792    0.233555   0.402991   1.14661  0.0409206   \n",
       "2009/9     1.2901   0.00291682    0.227205   0.180846  0.467057   0.412074   \n",
       "2009/10  0.469659  0.000538975   0.0561652  0.0576671  0.152037    0.20325   \n",
       "2009/11   777.769      653.604     84.1427   0.878403   2.22915    36.9147   \n",
       "\n",
       "             obs mod_all_ratio mod_surface_ratio mod_seepage_ratio  \\\n",
       "Month                                                                \n",
       "2009/7   53.5864       6.94249           61.8332           94.1903   \n",
       "2009/8   96.7843       52.4022           4150.51           407.487   \n",
       "2009/9   88.9301       68.9328           30047.4           386.732   \n",
       "2009/10  20.9705       44.6505           38037.7            366.01   \n",
       "2009/11  183.754      0.236258         0.0911699          -6.05961   \n",
       "\n",
       "        mod_DWC_ratio mod_dwc_ratio mod_emc_ratio obs_ratio  \n",
       "Month                                                        \n",
       "2009/7        28.8158       11.7413       83.9104   1.85596  \n",
       "2009/8        236.582       83.7986       2321.04   1.98092  \n",
       "2009/9        485.611       188.643        213.68   1.98549  \n",
       "2009/10       356.503       135.841       101.865    1.9776  \n",
       "2009/11      -675.244      -265.477      -15.0915  -2.23266  "
      ]
     },
     "execution_count": 10,
     "metadata": {},
     "output_type": "execute_result"
    }
   ],
   "source": [
    "df_month.head()"
   ]
  },
  {
   "cell_type": "code",
   "execution_count": 12,
   "metadata": {},
   "outputs": [],
   "source": [
    "df_month.to_csv(outpath+'obs_mod_month_load_ratio.csv')"
   ]
  },
  {
   "cell_type": "code",
   "execution_count": 24,
   "metadata": {},
   "outputs": [],
   "source": [
    "x_list = [*np.arange(7, 13), *np.arange(1, 7)]\n",
    "drs_stats = pd.DataFrame(columns=x_list, index=index)\n",
    "drs_stats.index.name = 'month'\n",
    "col_ratio = df_month.columns[0:7]\n",
    "for col in col_ratio:\n",
    "    k = list(col_ratio).index(col)\n",
    "    for i in range(12):\n",
    "        drs_stats.loc[index[(4 * k) : (4 * k + 4)], x_list[i]] = df_month[col][i::12].median(), df_month[col][i::12].min(), df_month[col][i::12].max(), df_month[col][i::12].mean()\n",
    "#         obs_mod = (df_month['obs'][i::12].mean() + df_month[df_month.columns[k+1]][i::12].mean() - df_month['mod_all'][i::12].mean())\n",
    "#         mod_mod0 = df_month[df_month.columns[k+1]][i::12].mean()\n",
    "#         drs_stats.loc[index[4 * k + 3], x_list[i]] = obs_mod / mod_mod0\n",
    "# drs_stats.to_csv(outpath+'DeliveryRatioSurface.csv')"
   ]
  },
  {
   "cell_type": "code",
   "execution_count": 26,
   "metadata": {},
   "outputs": [],
   "source": [
    "drs_stats.to_csv(outpath+'month_sum_loads.csv')"
   ]
  },
  {
   "cell_type": "code",
   "execution_count": null,
   "metadata": {},
   "outputs": [],
   "source": []
  }
 ],
 "metadata": {
  "kernelspec": {
   "display_name": "Python (oed)",
   "language": "python",
   "name": "oed"
  },
  "language_info": {
   "codemirror_mode": {
    "name": "ipython",
    "version": 3
   },
   "file_extension": ".py",
   "mimetype": "text/x-python",
   "name": "python",
   "nbconvert_exporter": "python",
   "pygments_lexer": "ipython3",
   "version": "3.7.1"
  }
 },
 "nbformat": 4,
 "nbformat_minor": 5
}
