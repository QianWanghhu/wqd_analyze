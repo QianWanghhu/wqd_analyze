{
 "cells": [
  {
   "attachments": {},
   "cell_type": "markdown",
   "metadata": {},
   "source": [
    "\"\"\"\n",
    "This script is used to caclulate the Event Mean Concentration (EMC).\n",
    "The inputs are .csv files containing concentration and flow after linear interpolation.\n",
    "\"\"\""
   ]
  },
  {
   "cell_type": "code",
   "execution_count": 1,
   "metadata": {},
   "outputs": [],
   "source": [
    "import pandas as pd\n",
    "import numpy as np\n",
    "from utils.concentration import rainfall_events, emc_cal, conc_interpolate, event_emc\n",
    "import datetime\n",
    "\n",
    "# read the discrete storm events\n",
    "# Read daily loads and flow\n",
    "# Read hourly loads and flow\n",
    "from common_settings import obspath, outpath, events_name, \\\n",
    "    obs_events, day_load_flow, hour_load_flow, conct_name, modpath, mod_load_flow"
   ]
  },
  {
   "cell_type": "code",
   "execution_count": 2,
   "metadata": {},
   "outputs": [],
   "source": [
    "from utils.concentration import cumulative_lq, excel_save\n",
    "from utils.signatures import update_cumul_df, load_flow_loc"
   ]
  },
  {
   "attachments": {},
   "cell_type": "markdown",
   "metadata": {},
   "source": [
    "## Produce the event mean concentration of obs and mod"
   ]
  },
  {
   "cell_type": "code",
   "execution_count": 3,
   "metadata": {},
   "outputs": [],
   "source": [
    "# Calculate EMC for low-frequency data\n",
    "cols = [col for col in day_load_flow.columns if ('kg' in col) or ('Flow (ML)' in col)]\n",
    "index_range = [1, obs_events.shape[0]+1]\n",
    "# index_range2 = [38, obs_events.shape[0]+1]"
   ]
  },
  {
   "cell_type": "code",
   "execution_count": 4,
   "metadata": {},
   "outputs": [],
   "source": [
    "obs_events = event_emc(obs_events, day_load_flow, index_range, cols[0], cols[1], \n",
    "    time_scale='d', multiplier=1)"
   ]
  },
  {
   "cell_type": "code",
   "execution_count": 5,
   "metadata": {},
   "outputs": [],
   "source": [
    "obs_events.to_csv(outpath + events_name, index='ID')"
   ]
  },
  {
   "attachments": {},
   "cell_type": "markdown",
   "metadata": {},
   "source": [
    "### Calculate mod load"
   ]
  },
  {
   "cell_type": "code",
   "execution_count": 6,
   "metadata": {},
   "outputs": [],
   "source": [
    "# read the discrete storm events\n",
    "filename = 'DIN_mod_storm_event_common3.csv'\n",
    "events = rainfall_events(f'{outpath}{filename}')\n",
    "# Calculate EMC for modeling data\n",
    "cols = [col for col in mod_load_flow.columns if ('Load' in col) or ('ML' in col)]\n",
    "index_range = [1, events.shape[0]+1]\n",
    "loads_col = cols[0]; flow_col = cols[1]\n",
    "\n",
    "events = event_emc(events, mod_load_flow, index_range, loads_col, flow_col, \n",
    "    time_scale='d', multiplier=1)\n",
    "# events.dropna(axis=0, inplace=True)\n",
    "events.to_csv(f'{outpath}{filename}', index='ID')"
   ]
  },
  {
   "attachments": {},
   "cell_type": "markdown",
   "metadata": {},
   "source": [
    "## Produce the Normalized cumulative ratio of loads and flow "
   ]
  },
  {
   "attachments": {},
   "cell_type": "markdown",
   "metadata": {},
   "source": [
    "### calculate the daily data for double mass plot (Q-L)"
   ]
  },
  {
   "cell_type": "code",
   "execution_count": 34,
   "metadata": {},
   "outputs": [],
   "source": [
    "time_ranges = [[f'{year}/7/1', f'{year+1}/6/30'] for year in range(2009, 2020)]\n",
    "# time_ranges = obs_events.loc[:, ['start', 'end']].values\n",
    "double_mass_ratio = {}\n",
    "annual_total = pd.DataFrame(columns=day_load_flow.columns)"
   ]
  },
  {
   "cell_type": "code",
   "execution_count": 35,
   "metadata": {},
   "outputs": [],
   "source": [
    "for ii in range(0, len(time_ranges)-2):\n",
    "# for ii in range(index_range1[0]-1, index_range1[1]-1):\n",
    "    df_temp = load_flow_loc(time_ranges[ii], day_load_flow, timestep='d')\n",
    "    df_temp = update_cumul_df(df_temp, df_temp.values[:, 0], df_temp.values[:, -2])\n",
    "    double_mass_ratio[f'obs_year_{ii}'] = df_temp\n",
    "    annual_total.loc[time_ranges[ii][0][0:4]] = df_temp.sum(axis=0)\n",
    "annual_total.loc['ave'] = annual_total.mean(axis=0)"
   ]
  },
  {
   "cell_type": "code",
   "execution_count": 37,
   "metadata": {},
   "outputs": [],
   "source": [
    "# save outputs into one excel\n",
    "annual_total.to_csv(outpath+'obs_annual_sum.csv')\n",
    "fn = outpath +'obs_year_cumulative_ratio_day.xlsx'\n",
    "excel_save(double_mass_ratio, fn, True)"
   ]
  },
  {
   "attachments": {},
   "cell_type": "markdown",
   "metadata": {},
   "source": [
    "### calculate the hourly data for double mass plot (Q-L)"
   ]
  },
  {
   "cell_type": "code",
   "execution_count": 15,
   "metadata": {},
   "outputs": [],
   "source": [
    "double_mass_ratio = {}\n",
    "for ii in range(index_range2[0]-1, index_range2[1]-1):\n",
    "# for ii in range(9, len(time_ranges)):\n",
    "    df_temp = load_flow_loc(time_ranges[ii], hour_load_flow, timestep='h')\n",
    "    df_temp = update_cumul_df(df_temp, df_temp.values[:, -1], df_temp.values[:, 0])\n",
    "    double_mass_ratio[f'obs_storm_{ii}'] = df_temp"
   ]
  },
  {
   "cell_type": "code",
   "execution_count": 16,
   "metadata": {},
   "outputs": [],
   "source": [
    "# save outputs into one excel\n",
    "fn = outpath +'obs_storm_cumulative_ratio_hour.xlsx'\n",
    "excel_save(double_mass_ratio, fn)"
   ]
  },
  {
   "attachments": {},
   "cell_type": "markdown",
   "metadata": {},
   "source": [
    "### calculate the modeling data for double mass plot (Q-L)"
   ]
  },
  {
   "cell_type": "code",
   "execution_count": 39,
   "metadata": {},
   "outputs": [],
   "source": [
    "modpath = '../data/mod/'\n",
    "annual_total = pd.DataFrame(columns=mod_load_flow.columns)\n",
    "# filename = 'storm_event.csv'\n",
    "# mod_events = rainfall_events(f'{modpath}{filename}')"
   ]
  },
  {
   "cell_type": "code",
   "execution_count": 40,
   "metadata": {},
   "outputs": [],
   "source": [
    "# Calculate EMC for modeling data\n",
    "cols = [col for col in mod_load_flow.columns if ('Load' in col) or ('ML' in col)]\n",
    "# index_range = [1, mod_events.shape[0]]\n",
    "loads_col = cols[0]; flow_col = cols[1]"
   ]
  },
  {
   "cell_type": "code",
   "execution_count": 41,
   "metadata": {},
   "outputs": [],
   "source": [
    "double_mass_ratio = {}\n",
    "time_ranges = [[f'{year}-07-01', f'{year+1}-06-30'] for year in range(2009, 2018)]\n",
    "# time_ranges = mod_events.loc[:, ['start', 'end']].values\n",
    "# for ii in range(index_range[0], index_range[1]):\n",
    "for ii in range(len(time_ranges)):\n",
    "    df_temp = load_flow_loc(time_ranges[ii], mod_load_flow, timestep='d')\n",
    "    df_temp = update_cumul_df(df_temp, df_temp.values[:, 0], df_temp.values[:, -1])\n",
    "    double_mass_ratio[f'mod_storm_{ii}'] = df_temp\n",
    "    annual_total.loc[time_ranges[ii][0][0:4]] = df_temp.sum(axis=0)\n",
    "annual_total.loc['ave'] = annual_total.mean(axis=0)"
   ]
  },
  {
   "cell_type": "code",
   "execution_count": 42,
   "metadata": {},
   "outputs": [],
   "source": [
    "# save results\n",
    "annual_total.to_csv(outpath+'mod_annual_sum.csv')\n",
    "\n",
    "fn = outpath +'mod_year_cumulative_ratio_day.xlsx'\n",
    "excel_save(double_mass_ratio, fn)"
   ]
  },
  {
   "attachments": {},
   "cell_type": "markdown",
   "metadata": {},
   "source": [
    "## Calculate event load coefficients"
   ]
  },
  {
   "attachments": {},
   "cell_type": "markdown",
   "metadata": {},
   "source": [
    "### Event loads for obs"
   ]
  },
  {
   "cell_type": "code",
   "execution_count": 7,
   "metadata": {},
   "outputs": [],
   "source": [
    "obs_event_fn = 'obs_storm_event_common3'\n",
    "obs_events = pd.read_csv(f'{outpath}{obs_event_fn}.csv', index_col = 'ID') \n",
    "time_ranges = [[f'{year}/7/1', f'{year+1}/6/30'] for year in np.arange(2009, 2018)]\n",
    "year_loads = {}"
   ]
  },
  {
   "cell_type": "code",
   "execution_count": 8,
   "metadata": {},
   "outputs": [],
   "source": [
    "# for each year, calculate the yearly loads \n",
    "# obs daily data\n",
    "for tt in time_ranges[0:]:\n",
    "    df = load_flow_loc(tt, day_load_flow, timestep='d')\n",
    "    year_loads[tt[0][0:4]] = np.round(df.values[:, 0].sum(), 2)  \n",
    "    \n",
    "# obs hourly data\n",
    "# for tt in time_ranges[-2:]:\n",
    "#     df = load_flow_loc(tt, hour_load_flow, timestep='h')\n",
    "#     year_loads[tt[0][0:4]] = np.round(df.values[:, 0].sum(), 2)  "
   ]
  },
  {
   "cell_type": "code",
   "execution_count": 9,
   "metadata": {},
   "outputs": [],
   "source": [
    "# The event load coefficients\n",
    "for ii in range(1, index_range[1]):\n",
    "    df_event = load_flow_loc(obs_events.loc[ii, 'start':'end'].values, day_load_flow, timestep='d')\n",
    "    ymd= pd.to_datetime(obs_events.loc[ii, 'start'])\n",
    "    month = ymd.month; year = ymd.year\n",
    "    if month < 7:\n",
    "        obs_events.loc[ii, 'event_load_coefficients'] = df_event.values[:, 0].sum() / year_loads[str(year - 1)]\n",
    "    else:\n",
    "        obs_events.loc[ii, 'event_load_coefficients'] = df_event.values[:, 0].sum() / year_loads[str(year)]\n",
    "        \n",
    "# for ii in range(index_range2[0], index_range2[1]):\n",
    "#     df_event = load_flow_loc(obs_events.loc[ii, 'start':'end'].values, hour_load_flow, timestep='h')\n",
    "#     ymd= pd.to_datetime(obs_events.loc[ii, 'start'])\n",
    "#     month = ymd.month; year = ymd.year\n",
    "#     if month < 7:\n",
    "#         obs_events.loc[ii, 'event_load_coefficients'] = df_event.values[:, 0].sum() / year_loads[str(year-1)]\n",
    "#     else:\n",
    "#         obs_events.loc[ii, 'event_load_coefficients'] = df_event.values[:, 0].sum() / year_loads[str(year)]"
   ]
  },
  {
   "cell_type": "code",
   "execution_count": 10,
   "metadata": {},
   "outputs": [],
   "source": [
    "obs_events.to_csv(f'{outpath}{obs_event_fn}.csv')"
   ]
  },
  {
   "attachments": {},
   "cell_type": "markdown",
   "metadata": {},
   "source": [
    "### Event loads for mod"
   ]
  },
  {
   "cell_type": "code",
   "execution_count": 11,
   "metadata": {},
   "outputs": [],
   "source": [
    "mod_event_fn = 'DIN_mod_storm_event_common3'\n",
    "mod_events = pd.read_csv(f'{outpath}{mod_event_fn}.csv', index_col = 'ID') \n",
    "time_ranges = [[f'{year}/7/1', f'{year+1}/6/30'] for year in range(2009, 2018)]"
   ]
  },
  {
   "cell_type": "code",
   "execution_count": 12,
   "metadata": {},
   "outputs": [],
   "source": [
    "# for each year, calculate the yearly loads \n",
    "mod_loads = {}\n",
    "# mod daily data\n",
    "for tt in time_ranges:\n",
    "    df = load_flow_loc(tt, mod_load_flow, timestep='d')\n",
    "    mod_loads[tt[0][0:4]] = np.round(df.values[:, 0].sum(), 2)  "
   ]
  },
  {
   "cell_type": "code",
   "execution_count": 13,
   "metadata": {},
   "outputs": [],
   "source": [
    "# The event load coefficients\n",
    "for ii in mod_events.index:\n",
    "    df_event = load_flow_loc(mod_events.loc[ii, 'start':'end'].values, mod_load_flow, timestep='d')\n",
    "    ymd= pd.to_datetime(mod_events.loc[ii, 'start'])\n",
    "    month = ymd.month; year = ymd.year\n",
    "    if month < 7:\n",
    "        mod_events.loc[ii, 'event_load_coefficients'] = df_event.values[:, 0].sum() / mod_loads[str(year - 1)]\n",
    "    else:\n",
    "        mod_events.loc[ii, 'event_load_coefficients'] = df_event.values[:, 0].sum() / mod_loads[str(year)]"
   ]
  },
  {
   "cell_type": "code",
   "execution_count": 14,
   "metadata": {},
   "outputs": [],
   "source": [
    "mod_events.to_csv(f'{outpath}{mod_event_fn}.csv')"
   ]
  },
  {
   "attachments": {},
   "cell_type": "markdown",
   "metadata": {},
   "source": [
    "## Calculate the peaktime difference between flow and loads"
   ]
  },
  {
   "attachments": {},
   "cell_type": "markdown",
   "metadata": {},
   "source": [
    "### Mod results"
   ]
  },
  {
   "cell_type": "code",
   "execution_count": 16,
   "metadata": {},
   "outputs": [],
   "source": [
    "mod_event_fn = 'DIN_mod_storm_event_common2'\n",
    "mod_events = pd.read_csv(f'{outpath}{mod_event_fn}.csv', index_col = 'ID') "
   ]
  },
  {
   "cell_type": "code",
   "execution_count": 17,
   "metadata": {},
   "outputs": [],
   "source": [
    "# find the peak time of loads\n",
    "clabel, llabel, qlabel = ['Downstream Flow Concentration (mg.L^-1)', 'Loads (kg)', 'Flow_cumecs (ML.day^-1)']\n",
    "for ii in mod_events.index:\n",
    "    df_event = load_flow_loc(mod_events.loc[ii, 'start':'end'].values, mod_load_flow, timestep='d')\n",
    "    peaktime_load = df_event[df_event.loc[:, llabel]==df_event.loc[:, llabel].max()].index\n",
    "    peaktime_conc = df_event[df_event.loc[:, clabel]==df_event.loc[:, clabel].max()].index[0]\n",
    "    \n",
    "    mod_events.loc[ii, 'peaktime_load'] = peaktime_load\n",
    "    mod_events.loc[ii, 'peaktime_conc'] = peaktime_conc\n",
    "    mod_events.loc[ii, 'peakflow'] = df_event.loc[:, qlabel].max()\n",
    "    mod_events.loc[ii, 'peaktime'] = df_event[df_event.loc[:, qlabel]==df_event.loc[:, qlabel].max()].index\n",
    "    mod_events.loc[ii, 'peak_flow_time'] = df_event[df_event.loc[:, qlabel]==df_event.loc[:, qlabel].max()].index[0]\n",
    "    mod_events.loc[ii, 'peak_conc_time'] = df_event[df_event.loc[:, clabel]==df_event.loc[:, clabel].max()].index[0]\n",
    "    mod_events.loc[ii, 'peak_load_time'] = df_event[df_event.loc[:, llabel]==df_event.loc[:, llabel].max()].index[0]\n",
    "    \n",
    "# mod_events.loc[:, 'delta_time'] = mod_events.peaktime_load - mod_events.peaktime"
   ]
  },
  {
   "cell_type": "code",
   "execution_count": 18,
   "metadata": {},
   "outputs": [],
   "source": [
    "mod_events.loc[:, 'delta_load_flow_time'] = pd.to_datetime(mod_events.peak_load_time) - pd.to_datetime(mod_events.peak_flow_time)\n",
    "mod_events.loc[:, 'delta_conc_flow_time'] = pd.to_datetime(mod_events.peak_conc_time) - pd.to_datetime(mod_events.peak_flow_time)"
   ]
  },
  {
   "cell_type": "code",
   "execution_count": 19,
   "metadata": {},
   "outputs": [],
   "source": [
    "mod_events.to_csv(f'{outpath}{mod_event_fn}.csv')"
   ]
  },
  {
   "attachments": {},
   "cell_type": "markdown",
   "metadata": {},
   "source": [
    "### Obs results"
   ]
  },
  {
   "cell_type": "code",
   "execution_count": 20,
   "metadata": {},
   "outputs": [],
   "source": [
    "obs_event_fn = 'obs_storm_event_common2'\n",
    "obs_events = pd.read_csv(f'{outpath}{obs_event_fn}.csv', index_col = 'ID') "
   ]
  },
  {
   "cell_type": "code",
   "execution_count": 21,
   "metadata": {},
   "outputs": [],
   "source": [
    "# find the peak time of loads\n",
    "for ii in obs_events.index:\n",
    "#     if ii < 38:\n",
    "    df_event = load_flow_loc(obs_events.loc[ii, 'start':'end'].values, day_load_flow, timestep='d')\n",
    "    clabel, llabel, qlabel = ['Concentration (mg/L)', 'Linear_Average_Load(t)', 'Flow(ML)']\n",
    "#     else:\n",
    "#         clabel, llabel, qlabel = ['126001A-NO3(mg/l)', 'Loads (kg)', 'Flow (ML)']\n",
    "#         df_event = load_flow_loc(obs_events.loc[ii, 'start':'end'].values, hour_load_flow, timestep='h')\n",
    "#     peaktime_load = df_event[df_event.loc[:, llabel]==df_event.loc[:, llabel].max()].index[0]\n",
    "#     peaktime_conc = df_event[df_event.loc[:, clabel]==df_event.loc[:, clabel].max()].index[0]\n",
    "\n",
    "    obs_events.loc[ii, 'peaktime_load'] = peaktime_load\n",
    "    obs_events.loc[ii, 'peaktime_conc'] = peaktime_conc\n",
    "    obs_events.loc[ii, 'peakflow'] = df_event.loc[:, qlabel].max()\n",
    "    obs_events.loc[ii, 'peak_flow_time'] = df_event[df_event.loc[:, qlabel]==df_event.loc[:, qlabel].max()].index[0]\n",
    "    obs_events.loc[ii, 'peak_conc_time'] = df_event[df_event.loc[:, clabel]==df_event.loc[:, clabel].max()].index[0]\n",
    "    obs_events.loc[ii, 'peak_load_time'] = df_event[df_event.loc[:, llabel]==df_event.loc[:, llabel].max()].index[0]\n",
    "    \n",
    "obs_events.loc[:, 'delta_load_flow_time'] = pd.to_datetime(obs_events.peak_load_time) - pd.to_datetime(obs_events.peak_flow_time)\n",
    "obs_events.loc[:, 'delta_conc_flow_time'] = pd.to_datetime(obs_events.peak_conc_time) - pd.to_datetime(obs_events.peak_flow_time)"
   ]
  },
  {
   "cell_type": "code",
   "execution_count": 22,
   "metadata": {},
   "outputs": [],
   "source": [
    "obs_events.to_csv(f'{outpath}{obs_event_fn}.csv')"
   ]
  },
  {
   "attachments": {},
   "cell_type": "markdown",
   "metadata": {},
   "source": [
    "## Variability of load-discharge ratio (seasonal average concentration)"
   ]
  },
  {
   "attachments": {},
   "cell_type": "markdown",
   "metadata": {},
   "source": [
    "### Obs results"
   ]
  },
  {
   "cell_type": "code",
   "execution_count": 22,
   "metadata": {},
   "outputs": [],
   "source": [
    "time_ranges = [[f'{year}/7/1', f'{year}/10/1', f'{year+1}/1/1', f'{year+1}/4/1', f'{year+1}/7/1'] for year in range(2009, 2018)]\n",
    "df_ratio = pd.DataFrame(index=[str(year) for year in range(2009, 2018)], columns = [1, 2, 3, 4])"
   ]
  },
  {
   "cell_type": "code",
   "execution_count": 23,
   "metadata": {},
   "outputs": [],
   "source": [
    "for tt in time_ranges:\n",
    "    for ii in range(len(tt) -1):\n",
    "        start = pd.to_datetime(tt[ii])\n",
    "        end = pd.to_datetime(tt[ii + 1]) - datetime.timedelta(days=1)   \n",
    "        df = load_flow_loc([start, end], day_load_flow, timestep ='d')\n",
    "        df_ratio.loc[tt[0][0:4], ii+1] = df.sum(axis=0)[0] / df.sum(axis=0)[2] * 1000"
   ]
  },
  {
   "cell_type": "code",
   "execution_count": 24,
   "metadata": {},
   "outputs": [],
   "source": [
    "df_ratio.to_csv(f'{outpath}obs_seasonal_concentration.csv')"
   ]
  },
  {
   "attachments": {},
   "cell_type": "markdown",
   "metadata": {},
   "source": [
    "### Mod results"
   ]
  },
  {
   "cell_type": "code",
   "execution_count": 25,
   "metadata": {},
   "outputs": [],
   "source": [
    "time_ranges = [[f'{year}/7/1', f'{year}/10/1', f'{year+1}/1/1', f'{year+1}/4/1', f'{year+1}/7/1'] for year in range(2009, 2018)]\n",
    "df_ratio = pd.DataFrame(index=[str(year) for year in range(2009, 2018)], columns = [1, 2, 3, 4])"
   ]
  },
  {
   "cell_type": "code",
   "execution_count": 26,
   "metadata": {},
   "outputs": [],
   "source": [
    "for tt in time_ranges:\n",
    "    for ii in range(len(tt) -1):\n",
    "        start = pd.to_datetime(tt[ii])\n",
    "        end = pd.to_datetime(tt[ii + 1]) - datetime.timedelta(days=1)   \n",
    "        df = load_flow_loc([start, end], mod_load_flow, timestep ='d')\n",
    "        df_ratio.loc[tt[0][0:4], ii+1] = df.sum(axis=0)[0] / df.sum(axis=0)[2]"
   ]
  },
  {
   "cell_type": "code",
   "execution_count": 27,
   "metadata": {},
   "outputs": [],
   "source": [
    "df_ratio.to_csv(f'{outpath}mod_seasonal_concentration.csv')"
   ]
  },
  {
   "attachments": {},
   "cell_type": "markdown",
   "metadata": {},
   "source": [
    "## Monthly loads"
   ]
  },
  {
   "cell_type": "code",
   "execution_count": 30,
   "metadata": {},
   "outputs": [],
   "source": [
    "# calculate the monthly loads and flow\n",
    "df_month = pd.DataFrame(columns = ['obs', 'mod'])\n",
    "for y in range(2009, 2019):\n",
    "    for m in range(1, 13):\n",
    "        start = pd.to_datetime(f'{y}/{m}/1')\n",
    "        if m == 12:\n",
    "            end = pd.to_datetime(f'{y+1}/1/1') - datetime.timedelta(days=1) \n",
    "        else:\n",
    "            end = pd.to_datetime(f'{y}/{m+1}/1') - datetime.timedelta(days=1)\n",
    "            \n",
    "        df_month.loc[f'{y}/{m}', 'obs'] = 1000 * load_flow_loc([start, end], day_load_flow, timestep ='d').sum(axis=0)[0]\n",
    "        df_month.loc[f'{y}/{m}', 'mod'] = load_flow_loc([start, end], mod_load_flow, timestep ='d').sum(axis=0)[0]    \n",
    "df_month = df_month[(df_month.obs != 0) & (df_month.loc[:, 'mod'] != 0)]\n",
    "df_month.index.name = 'Month'"
   ]
  },
  {
   "cell_type": "code",
   "execution_count": 31,
   "metadata": {},
   "outputs": [],
   "source": [
    "df_month.to_csv(f'{outpath}mod_obs_month.csv')"
   ]
  },
  {
   "attachments": {},
   "cell_type": "markdown",
   "metadata": {},
   "source": [
    "## Calculate the coefficients of variation for concentrations (CVC) and discharge (CVQ), their ratio (CVC:CVQ)"
   ]
  },
  {
   "cell_type": "code",
   "execution_count": 32,
   "metadata": {},
   "outputs": [],
   "source": [
    "# define timeperiod\n",
    "time_ranges = pd.to_datetime(['2009/7/1', '2018/6/30'])\n",
    "df_cv = pd.DataFrame(columns=['obs', 'mod'], index=['cvc', 'cvq', 'cvl'])\n",
    "start, end = time_ranges"
   ]
  },
  {
   "cell_type": "code",
   "execution_count": 33,
   "metadata": {},
   "outputs": [],
   "source": [
    "# read obs time series of flow, loads and concentration\n",
    "df_obs = load_flow_loc([start, end], day_load_flow, timestep ='d')\n",
    "cv_all = (df_obs.std(axis=0) / df_obs.mean(axis=0))\n",
    "cols = df_obs.columns\n",
    "df_cv.loc[:, 'obs'] = [cv_all[cols[3]], cv_all[cols[2]], cv_all[cols[0]]]"
   ]
  },
  {
   "cell_type": "code",
   "execution_count": 34,
   "metadata": {},
   "outputs": [],
   "source": [
    "# read mod time series of flow, loads and concentration\n",
    "df_mod = load_flow_loc([start, end], mod_load_flow, timestep ='d')\n",
    "cv_all = (df_mod.std(axis=0) / df_mod.mean(axis=0))\n",
    "cols = df_mod.columns\n",
    "df_cv.loc[:, 'mod'] = [cv_all[cols[1]], cv_all[cols[2]], cv_all[cols[0]]]\n",
    "\n",
    "df_cv.loc['cq', :] = df_cv.loc['cvc', :] / df_cv.loc['cvq', :]\n",
    "df_cv.loc['lq', :] = df_cv.loc['cvl', :] / df_cv.loc['cvq', :]"
   ]
  },
  {
   "cell_type": "code",
   "execution_count": 35,
   "metadata": {},
   "outputs": [],
   "source": [
    "df_cv.to_csv(f'{outpath}cv_cql.csv')"
   ]
  },
  {
   "attachments": {},
   "cell_type": "markdown",
   "metadata": {},
   "source": [
    "## Linear regression of C-Q"
   ]
  },
  {
   "cell_type": "code",
   "execution_count": 3,
   "metadata": {},
   "outputs": [],
   "source": [
    "# import necessary packages\n",
    "from sklearn.metrics import r2_score\n",
    "from utils.signatures import residual, nonlinear_fit\n",
    "from utils.plotting import regression_plot\n",
    "import lmfit"
   ]
  },
  {
   "cell_type": "code",
   "execution_count": 4,
   "metadata": {},
   "outputs": [
    {
     "data": {
      "text/plain": [
       "Index(['Loads (kg)', 'Downstream Flow Concentration (mg/L)',\n",
       "       'Flow_cumecs (ML)', 'Unnamed: 4', 'Unnamed: 5'],\n",
       "      dtype='object')"
      ]
     },
     "execution_count": 4,
     "metadata": {},
     "output_type": "execute_result"
    }
   ],
   "source": [
    "# define x and y\n",
    "time_range = [['/7/1', '/10/1'], ['/10/1', '/1/1'], ['/1/1', '/4/1'], ['/4/1', '/7/1']]\n",
    "cols = mod_load_flow.columns\n",
    "# day_load_flow.loc[:, cols[0]] = day_load_flow.loc[:, cols[0]]*1000\n",
    "cols"
   ]
  },
  {
   "cell_type": "code",
   "execution_count": 10,
   "metadata": {},
   "outputs": [],
   "source": [
    "x_dict, y_dict = {}, {}\n",
    "k = 1\n",
    "for tt in time_range:\n",
    "    x, y = np.array([]), np.array([])\n",
    "    for year in range(2009, 2019):\n",
    "        start = pd.to_datetime(f'{year}{tt[0]}')\n",
    "        if tt[1] == '/1/1':\n",
    "            end = pd.to_datetime(f'{year+1}{tt[1]}') - datetime.timedelta(days=1)\n",
    "        else:\n",
    "            end = pd.to_datetime(f'{year}{tt[1]}') - datetime.timedelta(days=1)\n",
    "        df_temp = load_flow_loc([start, end], mod_load_flow, timestep ='d')\n",
    "        x = np.append(x, df_temp.values[:, 2])\n",
    "        y = np.append(y, df_temp.values[:, 0])\n",
    "    x_dict[f'{k}_x'] = x\n",
    "    x_dict[f'{k}_y'] = y\n",
    "    k += 1"
   ]
  },
  {
   "cell_type": "code",
   "execution_count": null,
   "metadata": {
    "tags": []
   },
   "outputs": [],
   "source": [
    "# variables are x and y\n",
    "coeff_regress = pd.DataFrame(columns = np.arange(1, 5), index=['R2', 'a', 'b', 'c'])\n",
    "for k in range(1, 5):\n",
    "    x = x_dict[f'{k}_x']\n",
    "    y = x_dict[f'{k}_y']\n",
    "    p = lmfit.Parameters()\n",
    "    p.add_many(('a', 0.1, True, 0, 10), ('b', 2, True, 0, 2), ('c', 0, False))\n",
    "    out1, out2, ci, trace = nonlinear_fit(p, residual, x, y, opti_method='differential_evolution')# lmfit, x=x_input, y=y_output,\n",
    "\n",
    "    # compare coefficient of determination\n",
    "    para_values = {}\n",
    "    for param in ['a', 'b', 'c']: \n",
    "        para_values[param] = np.round(trace['a'][param][0], 4)\n",
    "    y_mod = para_values['a'] * x ** para_values['b']+ para_values['c']\n",
    "    r2 = r2_score(np.log(y), np.log(y_mod))\n",
    "    abs_bias = np.abs(np.average(y_mod - y))\n",
    "    rel_bias = abs_bias / np.average(y)\n",
    "    coeff_regress.loc[:, k] = [r2, para_values['a'], para_values['b'], para_values['c']]"
   ]
  },
  {
   "cell_type": "code",
   "execution_count": 181,
   "metadata": {},
   "outputs": [],
   "source": [
    "coeff_regress.to_csv(outpath+'mod_cq_regress.csv')"
   ]
  },
  {
   "attachments": {},
   "cell_type": "markdown",
   "metadata": {},
   "source": [
    "## Calculate the variation of delivery ratio-surface"
   ]
  },
  {
   "cell_type": "code",
   "execution_count": 3,
   "metadata": {},
   "outputs": [],
   "source": [
    "# read observations, modeled outputs with delivery ratio at 0 and 25 (%)\n",
    "mod_fl_fn = 'DIN_sources.csv'\n",
    "mod_drs0 = pd.read_csv(modpath + mod_fl_fn, index_col='Date')\n",
    "mod_drs0.index = pd.to_datetime(mod_drs0.index, dayfirst=False)"
   ]
  },
  {
   "cell_type": "code",
   "execution_count": 22,
   "metadata": {},
   "outputs": [],
   "source": [
    "arrays = [['mod_total','mod_total', 'mod_total', 'mod_total', 'surface', 'surface', 'surface', 'surface', 'seepage', 'seepage', 'seepage', 'seepage', 'DWC', 'DWC', 'DWC', 'DWC',\n",
    "          'dwc_const', 'dwc_const', 'dwc_const', 'dwc_const', 'emc_const', 'emc_const', 'emc_const', 'emc_const', 'obs', 'obs', 'obs', 'obs'],\n",
    "          ['median', 'min', 'max', 'mean', 'median', 'min', 'max', 'mean', 'median', 'min', 'max', 'mean', 'median', 'min', 'max', 'mean', \n",
    "           'median', 'min', 'max', 'mean', 'median', 'min', 'max', 'mean',  'median', 'min', 'max', 'mean']]\n",
    "tuples = list(zip(*arrays))\n",
    "index = pd.MultiIndex.from_tuples(tuples)"
   ]
  },
  {
   "cell_type": "code",
   "execution_count": 5,
   "metadata": {},
   "outputs": [],
   "source": [
    "df_month = pd.DataFrame(columns=mod_drs0.columns)\n",
    "# calculate the monthly loads and flow\n",
    "for y in range(2009, 2019):\n",
    "    for m in range(1, 13):\n",
    "        start = pd.to_datetime(f'{y}/{m}/1')\n",
    "        if m == 12:\n",
    "#             import pdb; pdb.set_trace()\n",
    "            end = pd.to_datetime(f'{y+1}/1/1') - datetime.timedelta(days=1) \n",
    "        else:\n",
    "            end = pd.to_datetime(f'{y}/{m+1}/1') - datetime.timedelta(days=1)\n",
    "#         \n",
    "        df_month.loc[f'{y}/{m}', :] = load_flow_loc([start, end], mod_drs0, timestep ='d').sum(axis=0)\n",
    "df_month = df_month[(df_month.loc[:, df_month.columns[0]] != 0)]\n",
    "df_month.index.name = 'Month'"
   ]
  },
  {
   "cell_type": "code",
   "execution_count": 8,
   "metadata": {},
   "outputs": [],
   "source": [
    "df_month.to_csv(f'{outpath}month_loads_sources.csv')"
   ]
  },
  {
   "cell_type": "code",
   "execution_count": 9,
   "metadata": {},
   "outputs": [],
   "source": [
    "for col in df_month.columns:\n",
    "    df_month[col+'_ratio'] = (df_month['obs'] - df_month['mod_all'] + df_month[col]) / df_month[col]\n",
    "#     df_month['drs'] = (df_month['obs'] - df_month['mod_all'] + df_month[col]) / df_month[col]"
   ]
  },
  {
   "cell_type": "code",
   "execution_count": 12,
   "metadata": {},
   "outputs": [],
   "source": [
    "df_month.to_csv(outpath+'obs_mod_month_load_ratio.csv')"
   ]
  },
  {
   "cell_type": "code",
   "execution_count": 24,
   "metadata": {},
   "outputs": [],
   "source": [
    "x_list = [*np.arange(7, 13), *np.arange(1, 7)]\n",
    "drs_stats = pd.DataFrame(columns=x_list, index=index)\n",
    "drs_stats.index.name = 'month'\n",
    "col_ratio = df_month.columns[0:7]\n",
    "for col in col_ratio:\n",
    "    k = list(col_ratio).index(col)\n",
    "    for i in range(12):\n",
    "        drs_stats.loc[index[(4 * k) : (4 * k + 4)], x_list[i]] = df_month[col][i::12].median(), df_month[col][i::12].min(), df_month[col][i::12].max(), df_month[col][i::12].mean()\n",
    "#         obs_mod = (df_month['obs'][i::12].mean() + df_month[df_month.columns[k+1]][i::12].mean() - df_month['mod_all'][i::12].mean())\n",
    "#         mod_mod0 = df_month[df_month.columns[k+1]][i::12].mean()\n",
    "#         drs_stats.loc[index[4 * k + 3], x_list[i]] = obs_mod / mod_mod0\n",
    "# drs_stats.to_csv(outpath+'DeliveryRatioSurface.csv')"
   ]
  },
  {
   "cell_type": "code",
   "execution_count": 26,
   "metadata": {},
   "outputs": [],
   "source": [
    "drs_stats.to_csv(outpath+'month_sum_loads.csv')"
   ]
  },
  {
   "attachments": {},
   "cell_type": "markdown",
   "metadata": {},
   "source": [
    "## Calculate monthly flow and loads for plotting hysteresis loops"
   ]
  },
  {
   "cell_type": "code",
   "execution_count": 157,
   "metadata": {},
   "outputs": [],
   "source": [
    "df_month_obs, df_month_mod = pd.DataFrame(columns=['Load (kg)', 'Flow (ML)']), pd.DataFrame(columns=['Load (kg)', 'Flow (ML)'])\n",
    "df_month_mean = pd.DataFrame(columns=[['mod', 'mod', 'obs','obs' ], ['Load (kg)', 'Flow (ML)', 'Load (kg)', 'Flow (ML)']])\n",
    "# calculate the monthly loads and flow\n",
    "for y in range(2008, 2019):\n",
    "    for m in range(1, 13):\n",
    "        start = pd.to_datetime(f'{y}/{m}/1')\n",
    "        if m == 12:\n",
    "            end = pd.to_datetime(f'{y+1}/1/1') - datetime.timedelta(days=1) \n",
    "        else:\n",
    "            end = pd.to_datetime(f'{y}/{m+1}/1') - datetime.timedelta(days=1)   \n",
    "        df_month_obs.loc[f'{y}/{m}', 'Load (kg)'] = load_flow_loc([start, end], day_load_flow, timestep ='d').sum(axis=0)[0]\n",
    "        df_month_obs.loc[f'{y}/{m}', 'Flow (ML)'] = load_flow_loc([start, end], day_load_flow, timestep ='d').sum(axis=0)[2]\n",
    "        df_month_mod.loc[f'{y}/{m}', 'Load (kg)'] = load_flow_loc([start, end], mod_load_flow, timestep ='d').sum(axis=0)[0]\n",
    "        df_month_mod.loc[f'{y}/{m}', 'Flow (ML)'] = load_flow_loc([start, end], mod_load_flow, timestep ='d').sum(axis=0)[2]\n",
    "\n",
    "# Delete rows with values of zeros\n",
    "df_month_obs.drop(inplace=True, index=df_month_obs[df_month_obs['Load (kg)'] == 0].index)\n",
    "df_month_obs.index = pd.to_datetime(df_month_obs.index)\n",
    "\n",
    "df_month_mod.drop(inplace=True, index=df_month_mod[df_month_mod['Load (kg)'] == 0].index)\n",
    "df_month_mod.index = pd.to_datetime(df_month_mod.index)"
   ]
  },
  {
   "cell_type": "code",
   "execution_count": null,
   "metadata": {
    "tags": []
   },
   "outputs": [],
   "source": [
    "# Calculate the monthly average loads and flow\n",
    "for ii in range(7, 13):\n",
    "    df_month_mean.loc[f'month_{ii}','mod'] = df_month_mod[df_month_mod.index.month == ii].mean().values\n",
    "    df_month_mean.loc[f'month_{ii}','obs'] = df_month_obs[df_month_obs.index.month == ii].mean().values\n",
    "for ii in range(1, 7):\n",
    "    df_month_mean.loc[f'month_{ii}','mod'] = df_month_mod[df_month_mod.index.month == ii].mean().values\n",
    "    df_month_mean.loc[f'month_{ii}','obs'] = df_month_obs[df_month_obs.index.month == ii].mean().values\n",
    "df_month_mean.loc[:, 'Month'] = np.append(np.arange(7, 13), np.arange(1, 7))\n",
    "df_month_mean.index.name = 'index'\n",
    "df_month_mean.to_csv(outpath + 'monthly_flow_load_mean.csv')"
   ]
  },
  {
   "cell_type": "code",
   "execution_count": null,
   "metadata": {},
   "outputs": [],
   "source": []
  }
 ],
 "metadata": {
  "kernelspec": {
   "display_name": "oed",
   "language": "python",
   "name": "python3"
  },
  "language_info": {
   "codemirror_mode": {
    "name": "ipython",
    "version": 3
   },
   "file_extension": ".py",
   "mimetype": "text/x-python",
   "name": "python",
   "nbconvert_exporter": "python",
   "pygments_lexer": "ipython3",
   "version": "3.7.1"
  }
 },
 "nbformat": 4,
 "nbformat_minor": 5
}
